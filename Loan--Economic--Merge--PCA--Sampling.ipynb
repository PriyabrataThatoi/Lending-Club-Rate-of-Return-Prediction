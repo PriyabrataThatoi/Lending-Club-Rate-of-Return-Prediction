{
 "cells": [
  {
   "cell_type": "code",
   "execution_count": 1,
   "metadata": {},
   "outputs": [],
   "source": [
    "import pandas as pd\n",
    "import os\n",
    "from sys import platform\n",
    "import matplotlib.pyplot as plt\n",
    "import datetime\n",
    "import numpy as np\n",
    "import pickle\n",
    "import seaborn"
   ]
  },
  {
   "cell_type": "code",
   "execution_count": 3,
   "metadata": {},
   "outputs": [],
   "source": [
    "def is_integer(x):\n",
    "    '''\n",
    "    This function returns True if x is an integer, and False otherwise\n",
    "    '''\n",
    "    try:\n",
    "        return (int(x) == float(x))\n",
    "    except:\n",
    "        return False"
   ]
  },
  {
   "cell_type": "code",
   "execution_count": 4,
   "metadata": {},
   "outputs": [],
   "source": [
    "# Define the directories that contain the files downloaded in 2017\n",
    "# and 2018\n",
    "\n",
    "dir_2015 = \"/\".join( [\"E:\"]+[\"Thatoi_Docs\"] + [\"Downloads\"]+[\"LendingClubData2015\"] )\n",
    "\n",
    "# Define the output path for the pickle\n",
    "pickle_file = \"/\".join([\"E:\"]+[\"Thatoi_Docs\"]+[\"Downloads\"]+[\"LendingClubData\"] + [\"clean_data.pickle\"] )"
   ]
  },
  {
   "cell_type": "code",
   "execution_count": 5,
   "metadata": {},
   "outputs": [],
   "source": [
    "# Identify the columns we'll be keeping from the dataset\n",
    "cols_to_pick = ['id','loan_amnt','funded_amnt','term','int_rate',\n",
    "                 'installment','grade','emp_length', 'home_ownership',\n",
    "                 'annual_inc','verification_status','issue_d',\n",
    "                 'loan_status','purpose','dti', 'delinq_2yrs',\n",
    "                 'earliest_cr_line','open_acc','pub_rec', 'fico_range_high',\n",
    "                 'fico_range_low', 'revol_bal','revol_util', 'total_pymnt',\n",
    "                                                    'last_pymnt_d', 'recoveries','addr_state','zip_code']\n",
    "\n",
    "# Identify the type of each of these column\n",
    "float_cols = ['loan_amnt', 'funded_amnt', 'installment', 'annual_inc',\n",
    "                     'dti', 'revol_bal', 'delinq_2yrs', 'open_acc', 'pub_rec',\n",
    "                                'fico_range_high', 'fico_range_low', 'total_pymnt', 'recoveries']\n",
    "cat_cols = ['term', 'grade', 'emp_length', 'home_ownership',\n",
    "                    'verification_status', 'loan_status', 'purpose']\n",
    "perc_cols = ['int_rate', 'revol_util']\n",
    "date_cols = ['issue_d', 'earliest_cr_line', 'last_pymnt_d']\n",
    "geo_cols = ['addr_state','zip_code']\n",
    "\n",
    "# Ensure that we have types for every column\n",
    "assert set(cols_to_pick) - set(float_cols) - set(cat_cols) - set(perc_cols) - set(date_cols) -set(geo_cols)== set([\"id\"])"
   ]
  },
  {
   "cell_type": "code",
   "execution_count": 6,
   "metadata": {},
   "outputs": [],
   "source": [
    "# Some of the columns selected will not be used directly in the model,\n",
    "# but will be used to generate other features.\n",
    "#\n",
    "# Create variables specifying the features that will be used\n",
    "\n",
    "# All categorical columns other than \"loan_status\" will be used as\n",
    "# discrete features\n",
    "discrete_features = list(set(cat_cols) - set([\"loan_status\"]))\n",
    "\n",
    "# All numeric columns will be used as continuous features\n",
    "continuous_features = list(float_cols + perc_cols)"
   ]
  },
  {
   "cell_type": "code",
   "execution_count": 7,
   "metadata": {},
   "outputs": [],
   "source": [
    "def ingest_files(directory):\n",
    "    \n",
    "    # If the directory has no trailing slash, add one\n",
    "    if directory[-1] != \"/\":\n",
    "        directory = directory + \"/\"\n",
    "    \n",
    "    all_files = os.listdir(directory)\n",
    "    output = {}\n",
    "    \n",
    "    print(\"Directory \" + directory + \" has \" + str(len(all_files)) + \" files:\")\n",
    "    for i in all_files:\n",
    "        print(\"    Reading file \" + i)\n",
    "        output[i] = pd.read_csv(directory + i, dtype = str, skiprows = 1)\n",
    "        \n",
    "        # Some of the files have \"summary\" lines that, for example\n",
    "        # read \"Total number of loans number in Policy 1: .....\"\n",
    "        # To remove those lines, find any lines with non-integer IDs\n",
    "        # and remove them\n",
    "        invalid_rows = (output[i].id.apply( lambda x : is_integer(x) == False ))\n",
    "        if invalid_rows.sum() > 0:\n",
    "            print(\"        Found \" + str(invalid_rows.sum()) + \" invalid rows which were removed\")\n",
    "            output[i] = output[i][invalid_rows == False]\n",
    "    \n",
    "    return output"
   ]
  },
  {
   "cell_type": "code",
   "execution_count": 8,
   "metadata": {},
   "outputs": [
    {
     "name": "stdout",
     "output_type": "stream",
     "text": [
      "Directory E:/Thatoi_Docs/Downloads/LendingClubData2015/ has 1 files:\n",
      "    Reading file LoanStats3d_securev1.csv\n",
      "        Found 2 invalid rows which were removed\n"
     ]
    }
   ],
   "source": [
    "files_2015 = ingest_files(dir_2015)"
   ]
  },
  {
   "cell_type": "code",
   "execution_count": 9,
   "metadata": {},
   "outputs": [
    {
     "name": "stdout",
     "output_type": "stream",
     "text": [
      "Starting with 421095 rows\n"
     ]
    }
   ],
   "source": [
    "data_2015 = pd.concat(files_2015.values()).reset_index(drop = True)\n",
    "\n",
    "data_2015=data_2015.sort_values(by='id')\n",
    "\n",
    "# Ensure the loan IDs are a unique key\n",
    "assert len(set(data_2015.id)) == len(data_2015)\n",
    "\n",
    "# Keep only the columns of interest\n",
    "final_data = data_2015[cols_to_pick].copy()\n",
    "\n",
    "print(\"Starting with \" + str(len(final_data)) + \" rows\")"
   ]
  },
  {
   "cell_type": "code",
   "execution_count": 10,
   "metadata": {},
   "outputs": [],
   "source": [
    "for i in float_cols:\n",
    "    final_data[i] = final_data[i].astype(float)\n",
    "    \n",
    "def clean_perc(x):\n",
    "    if pd.isnull(x):\n",
    "        return np.nan\n",
    "    else:\n",
    "        return float(x.strip()[:-1])\n",
    "for i in perc_cols:\n",
    "    final_data[i] = final_data[i].apply( clean_perc )\n",
    "    \n",
    "def clean_date(x):\n",
    "    if pd.isnull(x):\n",
    "        return None\n",
    "    else:\n",
    "        return datetime.datetime.strptime( x, \"%b-%Y\").date()\n",
    "for i in date_cols:\n",
    "    final_data[i] = final_data[i].apply( clean_date )\n",
    "    \n",
    "for i in cat_cols:\n",
    "    final_data.loc[final_data[i].isnull(), i] = None"
   ]
  },
  {
   "cell_type": "code",
   "execution_count": 11,
   "metadata": {},
   "outputs": [
    {
     "name": "stdout",
     "output_type": "stream",
     "text": [
      "Removed 1093 rows\n"
     ]
    }
   ],
   "source": [
    "# Remove all rows for loans that were paid back on the days\n",
    "# they were issued\n",
    "final_data['loan_length'] = (final_data.last_pymnt_d - final_data.issue_d) / np.timedelta64(1, 'M')\n",
    "n_rows = len(final_data)\n",
    "final_data = final_data[final_data.loan_length != 0]\n",
    "print(\"Removed \" + str(n_rows - len(final_data)) + \" rows\")"
   ]
  },
  {
   "cell_type": "code",
   "execution_count": 12,
   "metadata": {},
   "outputs": [],
   "source": [
    "def ret_method_3(T, i):\n",
    "    '''\n",
    "    Given an investment time horizon (in months) and re-investment\n",
    "    interest rate, calculate the return of each loan\n",
    "    '''\n",
    "    \n",
    "    # Assuming that the total amount paid back was paid at equal\n",
    "    # intervals during the duration of the loan, calculate the\n",
    "    # size of each of these installment\n",
    "    actual_installment = (final_data.total_pymnt - final_data.recoveries) / final_data['loan_length']\n",
    "\n",
    "    # Assuming the amount is immediately re-invested at the prime\n",
    "    # rate, find the total amount of money we'll have by the end\n",
    "    # of the loan\n",
    "    cash_by_end_of_loan = actual_installment * (1 - pow(1 + i, final_data.loan_length)) / ( 1 - (1 + i) )\n",
    "    \n",
    "    cash_by_end_of_loan = cash_by_end_of_loan + final_data.recoveries\n",
    "    \n",
    "    # Assuming that cash is then re-invested at the prime rate,\n",
    "    # with monthly re-investment, until T months from the start\n",
    "    # of the loan\n",
    "    remaining_months = T - final_data['loan_length']\n",
    "    final_return = cash_by_end_of_loan * pow(1 + i, remaining_months)\n",
    "\n",
    "    # Find the percentage return\n",
    "    return( (12/T) * ( ( final_return - final_data['funded_amnt'] ) / final_data['funded_amnt'] ) )\n",
    "\n",
    "\n",
    "final_data['return'] = ret_method_3(5*12, 0.0024) #3% "
   ]
  },
  {
   "cell_type": "code",
   "execution_count": 12,
   "metadata": {},
   "outputs": [],
   "source": [
    "def visualize_columns():\n",
    "    '''\n",
    "    This function visualizes all columns\n",
    "      - Box-and-whisker plots for continuous variables\n",
    "      - Lists of distinct values for categorical columns\n",
    "      - A timeline density for dates\n",
    "    '''\n",
    "    ret_cols=['return']\n",
    "    # FLoat columns\n",
    "    for i in float_cols + perc_cols + ret_cols:\n",
    "        seaborn.boxplot(final_data[i])\n",
    "\n",
    "        # Print the three highest values\n",
    "        highest_vals = sorted(final_data[i], reverse=True)[:3]\n",
    "        smallest_val = min(final_data[i])\n",
    "        plt.text(smallest_val, -0.3, highest_vals[0])\n",
    "        plt.text(smallest_val, -0.2, highest_vals[1])\n",
    "        plt.text(smallest_val, -0.1, highest_vals[2])\n",
    "\n",
    "        plt.show()\n",
    "        \n",
    "    # Categorical columns \n",
    "    for i in cat_cols:\n",
    "        print(i)\n",
    "        print(str(len(set(final_data[i]))) + \" distinct values\")\n",
    "        print(final_data[i].value_counts())\n",
    "        print(\"\")\n",
    "        print(\"\")\n",
    "    \n",
    "    # Date columns\n",
    "    for i in date_cols:\n",
    "        final_data[final_data[i].isnull() == False][i].apply(lambda x : str(x.year) +\n",
    "                                                \"-\" + str(x.month)).value_counts(ascending = True).plot()\n",
    "        plt.title(i + \" (\" + str(final_data[i].isnull().sum()) + \" null values)\")\n",
    "        plt.show()"
   ]
  },
  {
   "cell_type": "code",
   "execution_count": 13,
   "metadata": {
    "scrolled": true
   },
   "outputs": [
    {
     "data": {
      "image/png": "[encoded data removed]",
      "text/plain": [
       "<Figure size 432x288 with 1 Axes>"
      ]
     },
     "metadata": {
      "needs_background": "light"
     },
     "output_type": "display_data"
    },
    {
     "data": {
      "image/png": "[encoded data removed]",
      "text/plain": [
       "<Figure size 432x288 with 1 Axes>"
      ]
     },
     "metadata": {
      "needs_background": "light"
     },
     "output_type": "display_data"
    },
    {
     "data": {
      "image/png": "[encoded data removed]",
      "text/plain": [
       "<Figure size 432x288 with 1 Axes>"
      ]
     },
     "metadata": {
      "needs_background": "light"
     },
     "output_type": "display_data"
    },
    {
     "data": {
      "image/png": "[encoded data removed]",
      "text/plain": [
       "<Figure size 432x288 with 1 Axes>"
      ]
     },
     "metadata": {
      "needs_background": "light"
     },
     "output_type": "display_data"
    },
    {
     "data": {
      "image/png": "[encoded data removed]",
      "text/plain": [
       "<Figure size 432x288 with 1 Axes>"
      ]
     },
     "metadata": {
      "needs_background": "light"
     },
     "output_type": "display_data"
    },
    {
     "data": {
      "image/png": "[encoded data removed]",
      "text/plain": [
       "<Figure size 432x288 with 1 Axes>"
      ]
     },
     "metadata": {
      "needs_background": "light"
     },
     "output_type": "display_data"
    },
    {
     "data": {
      "image/png": "[encoded data removed]",
      "text/plain": [
       "<Figure size 432x288 with 1 Axes>"
      ]
     },
     "metadata": {
      "needs_background": "light"
     },
     "output_type": "display_data"
    },
    {
     "data": {
      "image/png": "[encoded data removed]",
      "text/plain": [
       "<Figure size 432x288 with 1 Axes>"
      ]
     },
     "metadata": {
      "needs_background": "light"
     },
     "output_type": "display_data"
    },
    {
     "data": {
      "image/png": "[encoded data removed]",
      "text/plain": [
       "<Figure size 432x288 with 1 Axes>"
      ]
     },
     "metadata": {
      "needs_background": "light"
     },
     "output_type": "display_data"
    },
    {
     "data": {
      "image/png": "[encoded data removed]",
      "text/plain": [
       "<Figure size 432x288 with 1 Axes>"
      ]
     },
     "metadata": {
      "needs_background": "light"
     },
     "output_type": "display_data"
    },
    {
     "data": {
      "image/png": "[encoded data removed]",
      "text/plain": [
       "<Figure size 432x288 with 1 Axes>"
      ]
     },
     "metadata": {
      "needs_background": "light"
     },
     "output_type": "display_data"
    },
    {
     "data": {
      "image/png": "[encoded data removed]",
      "text/plain": [
       "<Figure size 432x288 with 1 Axes>"
      ]
     },
     "metadata": {
      "needs_background": "light"
     },
     "output_type": "display_data"
    },
    {
     "data": {
      "image/png": "[encoded data removed]",
      "text/plain": [
       "<Figure size 432x288 with 1 Axes>"
      ]
     },
     "metadata": {
      "needs_background": "light"
     },
     "output_type": "display_data"
    },
    {
     "data": {
      "image/png": "[encoded data removed]",
      "text/plain": [
       "<Figure size 432x288 with 1 Axes>"
      ]
     },
     "metadata": {
      "needs_background": "light"
     },
     "output_type": "display_data"
    },
    {
     "data": {
      "image/png": "[encoded data removed]",
      "text/plain": [
       "<Figure size 432x288 with 1 Axes>"
      ]
     },
     "metadata": {
      "needs_background": "light"
     },
     "output_type": "display_data"
    },
    {
     "data": {
      "image/png": "[encoded data removed]",
      "text/plain": [
       "<Figure size 432x288 with 1 Axes>"
      ]
     },
     "metadata": {
      "needs_background": "light"
     },
     "output_type": "display_data"
    },
    {
     "name": "stdout",
     "output_type": "stream",
     "text": [
      "term\n",
      "2 distinct values\n",
      " 36 months    282477\n",
      " 60 months    137525\n",
      "Name: term, dtype: int64\n",
      "\n",
      "\n",
      "grade\n",
      "7 distinct values\n",
      "C    120250\n",
      "B    117346\n",
      "A     73219\n",
      "D     62458\n",
      "E     34824\n",
      "F      9761\n",
      "G      2144\n",
      "Name: grade, dtype: int64\n",
      "\n",
      "\n",
      "emp_length\n",
      "12 distinct values\n",
      "10+ years    141174\n",
      "2 years       37408\n",
      "< 1 year      34246\n",
      "3 years       33328\n",
      "1 year        27407\n",
      "5 years       24870\n",
      "4 years       24447\n",
      "8 years       21494\n",
      "7 years       18366\n",
      "6 years       16799\n",
      "9 years       16716\n",
      "Name: emp_length, dtype: int64\n",
      "\n",
      "\n",
      "home_ownership\n",
      "4 distinct values\n",
      "MORTGAGE    207178\n",
      "RENT        167217\n",
      "OWN          45605\n",
      "ANY              2\n",
      "Name: home_ownership, dtype: int64\n",
      "\n",
      "\n",
      "verification_status\n",
      "3 distinct values\n",
      "Source Verified    184259\n",
      "Verified           122695\n",
      "Not Verified       113048\n",
      "Name: verification_status, dtype: int64\n",
      "\n",
      "\n",
      "loan_status\n",
      "7 distinct values\n",
      "Fully Paid            301328\n",
      "Charged Off            76599\n",
      "Current                40215\n",
      "Late (31-120 days)      1144\n",
      "In Grace Period          438\n",
      "Late (16-30 days)        277\n",
      "Default                    1\n",
      "Name: loan_status, dtype: int64\n",
      "\n",
      "\n",
      "purpose\n",
      "14 distinct values\n",
      "debt_consolidation    249417\n",
      "credit_card           101831\n",
      "home_improvement       25219\n",
      "other                  19122\n",
      "major_purchase          7408\n",
      "medical                 3925\n",
      "car                     3434\n",
      "small_business          3350\n",
      "moving                  2404\n",
      "vacation                2243\n",
      "house                   1420\n",
      "renewable_energy         224\n",
      "wedding                    4\n",
      "educational                1\n",
      "Name: purpose, dtype: int64\n",
      "\n",
      "\n"
     ]
    },
    {
     "data": {
      "image/png": "[encoded data removed]",
      "text/plain": [
       "<Figure size 432x288 with 1 Axes>"
      ]
     },
     "metadata": {
      "needs_background": "light"
     },
     "output_type": "display_data"
    },
    {
     "data": {
      "image/png": "[encoded data removed]",
      "text/plain": [
       "<Figure size 432x288 with 1 Axes>"
      ]
     },
     "metadata": {
      "needs_background": "light"
     },
     "output_type": "display_data"
    },
    {
     "data": {
      "image/png": "[encoded data removed]",
      "text/plain": [
       "<Figure size 432x288 with 1 Axes>"
      ]
     },
     "metadata": {
      "needs_background": "light"
     },
     "output_type": "display_data"
    }
   ],
   "source": [
    "visualize_columns()"
   ]
  },
  {
   "cell_type": "code",
   "execution_count": 13,
   "metadata": {},
   "outputs": [
    {
     "name": "stdout",
     "output_type": "stream",
     "text": [
      "Removed 167 rows\n"
     ]
    }
   ],
   "source": [
    "# There are quite a few outliers, but the two most obvious\n",
    "# ones to remove are in annual_inc, revol_util Remove these.\n",
    "n_rows = len(final_data)\n",
    "final_data = final_data[final_data.annual_inc < 9000000]\n",
    "final_data = final_data[final_data.revol_util < 170]\n",
    "print(\"Removed \" + str(n_rows - len(final_data)) + \" rows\")"
   ]
  },
  {
   "cell_type": "code",
   "execution_count": 14,
   "metadata": {},
   "outputs": [
    {
     "name": "stdout",
     "output_type": "stream",
     "text": [
      "Removed 42066 rows\n",
      "Remaining 377769  rows\n"
     ]
    }
   ],
   "source": [
    "# Remove all loans that are too recent to have been paid off or\n",
    "# defaulted\n",
    "n_rows = len(final_data)\n",
    "final_data = final_data[final_data.loan_status.isin(['Fully Paid','Charged Off','Default'])]\n",
    "print(\"Removed \" + str(n_rows - len(final_data)) + \" rows\")\n",
    "print(\"Remaining\",final_data.shape[0],\" rows\")"
   ]
  },
  {
   "cell_type": "code",
   "execution_count": 15,
   "metadata": {},
   "outputs": [
    {
     "name": "stdout",
     "output_type": "stream",
     "text": [
      "Removed 0 rows\n"
     ]
    }
   ],
   "source": [
    "# Only include loans isssued since 2009\n",
    "n_rows = len(final_data)\n",
    "final_data = final_data[final_data.issue_d >= datetime.date(2009, 1, 1)]\n",
    "print(\"Removed \" + str(n_rows - len(final_data)) + \" rows\")"
   ]
  },
  {
   "cell_type": "code",
   "execution_count": 16,
   "metadata": {},
   "outputs": [
    {
     "name": "stdout",
     "output_type": "stream",
     "text": [
      "Removed 296 rows\n"
     ]
    }
   ],
   "source": [
    "# Deal with null values. We allow cateogrical variables to be null\n",
    "# OTHER than grade, which is a particularly important categorical.\n",
    "# All non-categorical variables must be non-null, and we drop\n",
    "# rows that do not meet this requirement\n",
    "required_cols = set(cols_to_pick) - set(cat_cols) - set([\"id\"])\n",
    "required_cols.add(\"grade\")\n",
    "\n",
    "n_rows = len(final_data)\n",
    "final_data.dropna(subset = required_cols ,inplace=True)\n",
    "print(\"Removed \" + str(n_rows - len(final_data)) + \" rows\")"
   ]
  },
  {
   "cell_type": "code",
   "execution_count": 17,
   "metadata": {},
   "outputs": [
    {
     "data": {
      "text/html": [
       "<div>\n",
       "<style scoped>\n",
       "    .dataframe tbody tr th:only-of-type {\n",
       "        vertical-align: middle;\n",
       "    }\n",
       "\n",
       "    .dataframe tbody tr th {\n",
       "        vertical-align: top;\n",
       "    }\n",
       "\n",
       "    .dataframe thead th {\n",
       "        text-align: right;\n",
       "    }\n",
       "</style>\n",
       "<table border=\"1\" class=\"dataframe\">\n",
       "  <thead>\n",
       "    <tr style=\"text-align: right;\">\n",
       "      <th></th>\n",
       "      <th>grade</th>\n",
       "      <th>default</th>\n",
       "      <th>int_rate</th>\n",
       "      <th>return</th>\n",
       "    </tr>\n",
       "  </thead>\n",
       "  <tbody>\n",
       "    <tr>\n",
       "      <th>A</th>\n",
       "      <td>19.037653</td>\n",
       "      <td>5.543959</td>\n",
       "      <td>6.925644</td>\n",
       "      <td>3.857052</td>\n",
       "    </tr>\n",
       "    <tr>\n",
       "      <th>B</th>\n",
       "      <td>28.442299</td>\n",
       "      <td>13.041858</td>\n",
       "      <td>10.040383</td>\n",
       "      <td>3.933531</td>\n",
       "    </tr>\n",
       "    <tr>\n",
       "      <th>C</th>\n",
       "      <td>27.918288</td>\n",
       "      <td>22.444584</td>\n",
       "      <td>13.289780</td>\n",
       "      <td>3.576761</td>\n",
       "    </tr>\n",
       "    <tr>\n",
       "      <th>D</th>\n",
       "      <td>14.273869</td>\n",
       "      <td>32.201188</td>\n",
       "      <td>16.718765</td>\n",
       "      <td>2.952256</td>\n",
       "    </tr>\n",
       "    <tr>\n",
       "      <th>E</th>\n",
       "      <td>7.637367</td>\n",
       "      <td>41.756565</td>\n",
       "      <td>19.292331</td>\n",
       "      <td>1.911895</td>\n",
       "    </tr>\n",
       "    <tr>\n",
       "      <th>F</th>\n",
       "      <td>2.189031</td>\n",
       "      <td>50.950018</td>\n",
       "      <td>23.636809</td>\n",
       "      <td>0.907195</td>\n",
       "    </tr>\n",
       "    <tr>\n",
       "      <th>G</th>\n",
       "      <td>0.501493</td>\n",
       "      <td>54.463814</td>\n",
       "      <td>26.827110</td>\n",
       "      <td>0.347911</td>\n",
       "    </tr>\n",
       "  </tbody>\n",
       "</table>\n",
       "</div>"
      ],
      "text/plain": [
       "       grade    default   int_rate    return\n",
       "A  19.037653   5.543959   6.925644  3.857052\n",
       "B  28.442299  13.041858  10.040383  3.933531\n",
       "C  27.918288  22.444584  13.289780  3.576761\n",
       "D  14.273869  32.201188  16.718765  2.952256\n",
       "E   7.637367  41.756565  19.292331  1.911895\n",
       "F   2.189031  50.950018  23.636809  0.907195\n",
       "G   0.501493  54.463814  26.827110  0.347911"
      ]
     },
     "execution_count": 17,
     "metadata": {},
     "output_type": "execute_result"
    }
   ],
   "source": [
    "# Find the percentage of loans by grade, the default by grade,\n",
    "# and the return of each grade\n",
    "perc_by_grade = (final_data.grade.value_counts()*100/len(final_data)).sort_index()\n",
    "default_by_grade = final_data.groupby(\"grade\").apply(lambda x : (x.loan_status != \"Fully Paid\").sum()*100/len(x) )\n",
    "ret = final_data.groupby(\"grade\").apply(lambda x : np.mean(x['return']*100 ))\n",
    "int_rate_by_grade = final_data.groupby(\"grade\").apply(lambda x : np.mean(x.int_rate))\n",
    "\n",
    "\n",
    "combined = pd.DataFrame(perc_by_grade)\n",
    "combined['default'] = default_by_grade\n",
    "combined['int_rate'] = int_rate_by_grade\n",
    "combined['return'] = ret\n",
    "\n",
    "combined\n",
    "\n"
   ]
  },
  {
   "cell_type": "code",
   "execution_count": 19,
   "metadata": {
    "scrolled": true
   },
   "outputs": [
    {
     "name": "stderr",
     "output_type": "stream",
     "text": [
      "C:\\Users\\Thatoi\\Downloads\\Software\\Anaconda\\lib\\site-packages\\ipykernel_launcher.py:3: SettingWithCopyWarning: \n",
      "A value is trying to be set on a copy of a slice from a DataFrame\n",
      "\n",
      "See the caveats in the documentation: http://pandas.pydata.org/pandas-docs/stable/indexing.html#indexing-view-versus-copy\n",
      "  This is separate from the ipykernel package so we can avoid doing imports until\n",
      "C:\\Users\\Thatoi\\Downloads\\Software\\Anaconda\\lib\\site-packages\\ipykernel_launcher.py:4: SettingWithCopyWarning: \n",
      "A value is trying to be set on a copy of a slice from a DataFrame\n",
      "\n",
      "See the caveats in the documentation: http://pandas.pydata.org/pandas-docs/stable/indexing.html#indexing-view-versus-copy\n",
      "  after removing the cwd from sys.path.\n",
      "C:\\Users\\Thatoi\\Downloads\\Software\\Anaconda\\lib\\site-packages\\ipykernel_launcher.py:5: SettingWithCopyWarning: \n",
      "A value is trying to be set on a copy of a slice from a DataFrame\n",
      "\n",
      "See the caveats in the documentation: http://pandas.pydata.org/pandas-docs/stable/indexing.html#indexing-view-versus-copy\n",
      "  \"\"\"\n",
      "C:\\Users\\Thatoi\\Downloads\\Software\\Anaconda\\lib\\site-packages\\ipykernel_launcher.py:6: SettingWithCopyWarning: \n",
      "A value is trying to be set on a copy of a slice from a DataFrame\n",
      "\n",
      "See the caveats in the documentation: http://pandas.pydata.org/pandas-docs/stable/indexing.html#indexing-view-versus-copy\n",
      "  \n",
      "C:\\Users\\Thatoi\\Downloads\\Software\\Anaconda\\lib\\site-packages\\ipykernel_launcher.py:7: SettingWithCopyWarning: \n",
      "A value is trying to be set on a copy of a slice from a DataFrame\n",
      "\n",
      "See the caveats in the documentation: http://pandas.pydata.org/pandas-docs/stable/indexing.html#indexing-view-versus-copy\n",
      "  import sys\n",
      "C:\\Users\\Thatoi\\Downloads\\Software\\Anaconda\\lib\\site-packages\\ipykernel_launcher.py:8: SettingWithCopyWarning: \n",
      "A value is trying to be set on a copy of a slice from a DataFrame\n",
      "\n",
      "See the caveats in the documentation: http://pandas.pydata.org/pandas-docs/stable/indexing.html#indexing-view-versus-copy\n",
      "  \n",
      "C:\\Users\\Thatoi\\Downloads\\Software\\Anaconda\\lib\\site-packages\\ipykernel_launcher.py:9: SettingWithCopyWarning: \n",
      "A value is trying to be set on a copy of a slice from a DataFrame\n",
      "\n",
      "See the caveats in the documentation: http://pandas.pydata.org/pandas-docs/stable/indexing.html#indexing-view-versus-copy\n",
      "  if __name__ == '__main__':\n"
     ]
    }
   ],
   "source": [
    "# OFFSET Calibration\n",
    "final_data['return_lc']=np.nan\n",
    "final_data['return_lc'][final_data['grade']=='A'] = final_data['return']/1.751087641\n",
    "final_data['return_lc'][final_data['grade']=='B'] = final_data['return']/1.409933689\n",
    "final_data['return_lc'][final_data['grade']=='C'] = final_data['return']/1.245417141\n",
    "final_data['return_lc'][final_data['grade']=='D'] = final_data['return']/1.179172275\n",
    "final_data['return_lc'][final_data['grade']=='E'] = final_data['return']/1.097812758\n",
    "final_data['return_lc'][final_data['grade']=='F'] = final_data['return']/1.507483328\n",
    "final_data['return_lc'][final_data['grade']=='G'] = final_data['return']/1.507483328"
   ]
  },
  {
   "cell_type": "code",
   "execution_count": 20,
   "metadata": {},
   "outputs": [
    {
     "data": {
      "text/html": [
       "<div>\n",
       "<style scoped>\n",
       "    .dataframe tbody tr th:only-of-type {\n",
       "        vertical-align: middle;\n",
       "    }\n",
       "\n",
       "    .dataframe tbody tr th {\n",
       "        vertical-align: top;\n",
       "    }\n",
       "\n",
       "    .dataframe thead th {\n",
       "        text-align: right;\n",
       "    }\n",
       "</style>\n",
       "<table border=\"1\" class=\"dataframe\">\n",
       "  <thead>\n",
       "    <tr style=\"text-align: right;\">\n",
       "      <th></th>\n",
       "      <th>grade</th>\n",
       "      <th>default</th>\n",
       "      <th>int_rate</th>\n",
       "      <th>return</th>\n",
       "    </tr>\n",
       "  </thead>\n",
       "  <tbody>\n",
       "    <tr>\n",
       "      <th>A</th>\n",
       "      <td>19.037653</td>\n",
       "      <td>5.543959</td>\n",
       "      <td>6.925644</td>\n",
       "      <td>2.202661</td>\n",
       "    </tr>\n",
       "    <tr>\n",
       "      <th>B</th>\n",
       "      <td>28.442299</td>\n",
       "      <td>13.041858</td>\n",
       "      <td>10.040383</td>\n",
       "      <td>2.789869</td>\n",
       "    </tr>\n",
       "    <tr>\n",
       "      <th>C</th>\n",
       "      <td>27.918288</td>\n",
       "      <td>22.444584</td>\n",
       "      <td>13.289780</td>\n",
       "      <td>2.871938</td>\n",
       "    </tr>\n",
       "    <tr>\n",
       "      <th>D</th>\n",
       "      <td>14.273869</td>\n",
       "      <td>32.201188</td>\n",
       "      <td>16.718765</td>\n",
       "      <td>2.503668</td>\n",
       "    </tr>\n",
       "    <tr>\n",
       "      <th>E</th>\n",
       "      <td>7.637367</td>\n",
       "      <td>41.756565</td>\n",
       "      <td>19.292331</td>\n",
       "      <td>1.741549</td>\n",
       "    </tr>\n",
       "    <tr>\n",
       "      <th>F</th>\n",
       "      <td>2.189031</td>\n",
       "      <td>50.950018</td>\n",
       "      <td>23.636809</td>\n",
       "      <td>0.601795</td>\n",
       "    </tr>\n",
       "    <tr>\n",
       "      <th>G</th>\n",
       "      <td>0.501493</td>\n",
       "      <td>54.463814</td>\n",
       "      <td>26.827110</td>\n",
       "      <td>0.230789</td>\n",
       "    </tr>\n",
       "  </tbody>\n",
       "</table>\n",
       "</div>"
      ],
      "text/plain": [
       "       grade    default   int_rate    return\n",
       "A  19.037653   5.543959   6.925644  2.202661\n",
       "B  28.442299  13.041858  10.040383  2.789869\n",
       "C  27.918288  22.444584  13.289780  2.871938\n",
       "D  14.273869  32.201188  16.718765  2.503668\n",
       "E   7.637367  41.756565  19.292331  1.741549\n",
       "F   2.189031  50.950018  23.636809  0.601795\n",
       "G   0.501493  54.463814  26.827110  0.230789"
      ]
     },
     "execution_count": 20,
     "metadata": {},
     "output_type": "execute_result"
    }
   ],
   "source": [
    "# Find the percentage of loans by grade, the default by grade --- After OFFSET\n",
    "# and the return of each grade\n",
    "perc_by_grade = (final_data.grade.value_counts()*100/len(final_data)).sort_index()\n",
    "default_by_grade = final_data.groupby(\"grade\").apply(lambda x : (x.loan_status != \"Fully Paid\").sum()*100/len(x) )\n",
    "ret = final_data.groupby(\"grade\").apply(lambda x : np.mean(x['return_lc']*100 ))\n",
    "int_rate_by_grade = final_data.groupby(\"grade\").apply(lambda x : np.mean(x.int_rate))\n",
    "\n",
    "\n",
    "combined = pd.DataFrame(perc_by_grade)\n",
    "combined['default'] = default_by_grade\n",
    "combined['int_rate'] = int_rate_by_grade\n",
    "combined['return'] = ret\n",
    "\n",
    "combined\n",
    "\n"
   ]
  },
  {
   "cell_type": "code",
   "execution_count": 18,
   "metadata": {},
   "outputs": [],
   "source": [
    "# Remove the total_pymnt from the list of continuous features; this\n",
    "# variable is highly predictive of the outcome but is not known at\n",
    "# the time the loan is issued\n",
    "continuous_features = [i for i in continuous_features if i not in [\"total_pymnt\", \"recoveries\"]]"
   ]
  },
  {
   "cell_type": "markdown",
   "metadata": {},
   "source": [
    "### SOCIO-ECONOMIC DATA"
   ]
  },
  {
   "cell_type": "code",
   "execution_count": 19,
   "metadata": {},
   "outputs": [],
   "source": [
    "os.chdir(r\"E:\\Thatoi_Docs\\Individual_Project\\source_files\")\n",
    "df_eco=pd.read_excel('clean_sc.xlsx')"
   ]
  },
  {
   "cell_type": "code",
   "execution_count": 20,
   "metadata": {},
   "outputs": [],
   "source": [
    "list_eco=['Id2','Pop_wt','Estimate; EMPLOYMENT STATUS - Population 16 years and over - In labor force - Civilian labor force',\n",
    "'Percent; EMPLOYMENT STATUS - Civilian labor force - Unemployment Rate',\n",
    "'Estimate; COMMUTING TO WORK - Workers 16 years and over',\n",
    "'Estimate; COMMUTING TO WORK - Workers 16 years and over - Car, truck, or van -- drove alone',\n",
    "'Estimate; COMMUTING TO WORK - Workers 16 years and over - Car, truck, or van -- carpooled',\n",
    "'Estimate; COMMUTING TO WORK - Workers 16 years and over - Public transportation (excluding taxicab)',\n",
    "'Estimate; COMMUTING TO WORK - Workers 16 years and over - Walked',\n",
    "'Estimate; COMMUTING TO WORK - Workers 16 years and over - Other means',\n",
    "'Estimate; COMMUTING TO WORK - Workers 16 years and over - Worked at home',\n",
    "'Estimate; COMMUTING TO WORK - Mean travel time to work (minutes)',\n",
    "'Estimate; OCCUPATION - Civilian employed population 16 years and over',\n",
    "'Estimate; OCCUPATION - Civilian employed population 16 years and over - Management, business, science, and arts occupations',\n",
    "'Estimate; OCCUPATION - Civilian employed population 16 years and over - Service occupations',\n",
    "'Estimate; OCCUPATION - Civilian employed population 16 years and over - Sales and office occupations',\n",
    "'Estimate; OCCUPATION - Civilian employed population 16 years and over - Natural resources, construction, and maintenance occupations',\n",
    "'Estimate; OCCUPATION - Civilian employed population 16 years and over - Production, transportation, and material moving occupations',\n",
    "'Estimate; INDUSTRY - Civilian employed population 16 years and over',\n",
    "'Estimate; INDUSTRY - Civilian employed population 16 years and over - Agriculture, forestry, fishing and hunting, and mining',\n",
    "'Estimate; INDUSTRY - Civilian employed population 16 years and over - Construction',\n",
    "'Estimate; INDUSTRY - Civilian employed population 16 years and over - Manufacturing',\n",
    "'Estimate; INDUSTRY - Civilian employed population 16 years and over - Wholesale trade',\n",
    "'Estimate; INDUSTRY - Civilian employed population 16 years and over - Retail trade',\n",
    "'Estimate; INDUSTRY - Civilian employed population 16 years and over - Transportation and warehousing, and utilities',\n",
    "'Estimate; INDUSTRY - Civilian employed population 16 years and over - Information',\n",
    "'Estimate; INDUSTRY - Civilian employed population 16 years and over - Finance and insurance, and real estate and rental and leasing',\n",
    "'Estimate; INDUSTRY - Civilian employed population 16 years and over - Professional, scientific, and management, and administrative and waste management services',\n",
    "'Estimate; INDUSTRY - Civilian employed population 16 years and over - Educational services, and health care and social assistance',\n",
    "'Estimate; INDUSTRY - Civilian employed population 16 years and over - Arts, entertainment, and recreation, and accommodation and food services',\n",
    "'Estimate; INDUSTRY - Civilian employed population 16 years and over - Other services, except public administration',\n",
    "'Estimate; INDUSTRY - Civilian employed population 16 years and over - Public administration',\n",
    "'Estimate; CLASS OF WORKER - Civilian employed population 16 years and over',\n",
    "'Estimate; CLASS OF WORKER - Civilian employed population 16 years and over - Private wage and salary workers',\n",
    "'Estimate; CLASS OF WORKER - Civilian employed population 16 years and over - Government workers',\n",
    "'Estimate; CLASS OF WORKER - Civilian employed population 16 years and over - Self-employed in own not incorporated business workers',\n",
    "'Estimate; CLASS OF WORKER - Civilian employed population 16 years and over - Unpaid family workers',\n",
    "'Estimate; INCOME AND BENEFITS (IN 2017 INFLATION-ADJUSTED DOLLARS) - Total households',\n",
    "'Estimate; INCOME AND BENEFITS (IN 2017 INFLATION-ADJUSTED DOLLARS) - Total households - Less than $10,000',\n",
    "'Estimate; INCOME AND BENEFITS (IN 2017 INFLATION-ADJUSTED DOLLARS) - Total households - $10,000 to $14,999',\n",
    "'Estimate; INCOME AND BENEFITS (IN 2017 INFLATION-ADJUSTED DOLLARS) - Total households - $15,000 to $24,999',\n",
    "'Estimate; INCOME AND BENEFITS (IN 2017 INFLATION-ADJUSTED DOLLARS) - Total households - $25,000 to $34,999',\n",
    "'Estimate; INCOME AND BENEFITS (IN 2017 INFLATION-ADJUSTED DOLLARS) - Total households - $35,000 to $49,999',\n",
    "'Estimate; INCOME AND BENEFITS (IN 2017 INFLATION-ADJUSTED DOLLARS) - Total households - $50,000 to $74,999',\n",
    "'Estimate; INCOME AND BENEFITS (IN 2017 INFLATION-ADJUSTED DOLLARS) - Total households - $75,000 to $99,999',\n",
    "'Estimate; INCOME AND BENEFITS (IN 2017 INFLATION-ADJUSTED DOLLARS) - Total households - $100,000 to $149,999',\n",
    "'Estimate; INCOME AND BENEFITS (IN 2017 INFLATION-ADJUSTED DOLLARS) - Total households - $150,000 to $199,999',\n",
    "'Estimate; INCOME AND BENEFITS (IN 2017 INFLATION-ADJUSTED DOLLARS) - Total households - $200,000 or more',\n",
    "'Estimate; INCOME AND BENEFITS (IN 2017 INFLATION-ADJUSTED DOLLARS) - Families',\n",
    "'Estimate; INCOME AND BENEFITS (IN 2017 INFLATION-ADJUSTED DOLLARS) - Families - Less than $10,000',\n",
    "'Estimate; INCOME AND BENEFITS (IN 2017 INFLATION-ADJUSTED DOLLARS) - Families - $10,000 to $14,999',\n",
    "'Estimate; INCOME AND BENEFITS (IN 2017 INFLATION-ADJUSTED DOLLARS) - Families - $15,000 to $24,999',\n",
    "'Estimate; INCOME AND BENEFITS (IN 2017 INFLATION-ADJUSTED DOLLARS) - Families - $25,000 to $34,999',\n",
    "'Estimate; INCOME AND BENEFITS (IN 2017 INFLATION-ADJUSTED DOLLARS) - Families - $35,000 to $49,999',\n",
    "'Estimate; INCOME AND BENEFITS (IN 2017 INFLATION-ADJUSTED DOLLARS) - Families - $50,000 to $74,999',\n",
    "'Estimate; INCOME AND BENEFITS (IN 2017 INFLATION-ADJUSTED DOLLARS) - Families - $75,000 to $99,999',\n",
    "'Estimate; INCOME AND BENEFITS (IN 2017 INFLATION-ADJUSTED DOLLARS) - Families - $100,000 to $149,999',\n",
    "'Estimate; INCOME AND BENEFITS (IN 2017 INFLATION-ADJUSTED DOLLARS) - Families - $150,000 to $199,999',\n",
    "'Estimate; INCOME AND BENEFITS (IN 2017 INFLATION-ADJUSTED DOLLARS) - Families - $200,000 or more',\n",
    "'Estimate; INCOME AND BENEFITS (IN 2017 INFLATION-ADJUSTED DOLLARS) - Families - Median family income (dollars)',\n",
    "'Estimate; INCOME AND BENEFITS (IN 2017 INFLATION-ADJUSTED DOLLARS) - Families - Mean family income (dollars)',\n",
    "'Estimate; INCOME AND BENEFITS (IN 2017 INFLATION-ADJUSTED DOLLARS) - Per capita income (dollars)',\n",
    "'Estimate; HEALTH INSURANCE COVERAGE - Civilian noninstitutionalized population',\n",
    "'Estimate; HEALTH INSURANCE COVERAGE - Civilian noninstitutionalized population - With health insurance coverage',\n",
    "'Estimate; HEALTH INSURANCE COVERAGE - Civilian noninstitutionalized population - With health insurance coverage - With private health insurance',\n",
    "'Estimate; HEALTH INSURANCE COVERAGE - Civilian noninstitutionalized population - With health insurance coverage - With public coverage',\n",
    "'Estimate; HEALTH INSURANCE COVERAGE - Civilian noninstitutionalized population - No health insurance coverage',\n",
    "'Percent; PERCENTAGE OF FAMILIES AND PEOPLE WHOSE INCOME IN THE PAST 12 MONTHS IS BELOW THE POVERTY LEVEL - Married couple families',\n",
    "'Percent; PERCENTAGE OF FAMILIES AND PEOPLE WHOSE INCOME IN THE PAST 12 MONTHS IS BELOW THE POVERTY LEVEL - Families with female householder, no husband present',\n",
    "'Percent; PERCENTAGE OF FAMILIES AND PEOPLE WHOSE INCOME IN THE PAST 12 MONTHS IS BELOW THE POVERTY LEVEL - All people - 18 years and over - 18 to 64 years',\n",
    "'Percent; PERCENTAGE OF FAMILIES AND PEOPLE WHOSE INCOME IN THE PAST 12 MONTHS IS BELOW THE POVERTY LEVEL - All people - 18 years and over - 65 years and over',\n",
    "'Percent; PERCENTAGE OF FAMILIES AND PEOPLE WHOSE INCOME IN THE PAST 12 MONTHS IS BELOW THE POVERTY LEVEL - People in families']\n",
    "df_eco_sel = df_eco[list_eco]"
   ]
  },
  {
   "cell_type": "code",
   "execution_count": 21,
   "metadata": {},
   "outputs": [
    {
     "data": {
      "text/plain": [
       "72"
      ]
     },
     "execution_count": 21,
     "metadata": {},
     "output_type": "execute_result"
    }
   ],
   "source": [
    "len(list_eco)"
   ]
  },
  {
   "cell_type": "code",
   "execution_count": 22,
   "metadata": {},
   "outputs": [],
   "source": [
    "def create_eco_file(df_t):\n",
    "    df_t['zip_code']=df_t['Id2'].astype('int').apply(lambda x:format(x,'03d'))\n",
    "    #Imputing missing values with median values\n",
    "    for col in list_eco:\n",
    "        df_t[col].fillna(df_t[col].median(),inplace=True)\n",
    "    \n",
    "    #Removing NA's if there are still any\n",
    "    df_t=df_t.dropna(axis=0)\n",
    "    \n",
    "    print('Total unique zip codes are-->',df_t['zip_code'].nunique())\n",
    "    \n",
    "    # calculating population weighted values\n",
    "    for col in list_eco:\n",
    "        df_t[col]=df_t[col].astype('float')\n",
    "        df_t[col]=df_t[col]*df_t['Pop_wt']\n",
    "    \n",
    "    #Creating the final aggregated dataset, grouped by first three digit zipcodes\n",
    "    df_final=df_t.groupby('zip_code').sum().reset_index()\n",
    "    \n",
    "    return df_final"
   ]
  },
  {
   "cell_type": "code",
   "execution_count": 23,
   "metadata": {},
   "outputs": [
    {
     "name": "stderr",
     "output_type": "stream",
     "text": [
      "C:\\Users\\Thatoi\\Downloads\\Software\\Anaconda\\lib\\site-packages\\ipykernel_launcher.py:2: SettingWithCopyWarning: \n",
      "A value is trying to be set on a copy of a slice from a DataFrame.\n",
      "Try using .loc[row_indexer,col_indexer] = value instead\n",
      "\n",
      "See the caveats in the documentation: http://pandas.pydata.org/pandas-docs/stable/indexing.html#indexing-view-versus-copy\n",
      "  \n",
      "C:\\Users\\Thatoi\\Downloads\\Software\\Anaconda\\lib\\site-packages\\pandas\\core\\generic.py:6120: SettingWithCopyWarning: \n",
      "A value is trying to be set on a copy of a slice from a DataFrame\n",
      "\n",
      "See the caveats in the documentation: http://pandas.pydata.org/pandas-docs/stable/indexing.html#indexing-view-versus-copy\n",
      "  self._update_inplace(new_data)\n"
     ]
    },
    {
     "name": "stdout",
     "output_type": "stream",
     "text": [
      "Total unique zip codes are--> 894\n"
     ]
    }
   ],
   "source": [
    "df_final = create_eco_file(df_eco_sel)"
   ]
  },
  {
   "cell_type": "markdown",
   "metadata": {},
   "source": [
    "### CLEANING & MERGING"
   ]
  },
  {
   "cell_type": "code",
   "execution_count": 24,
   "metadata": {},
   "outputs": [],
   "source": [
    "# Create the outcome\n",
    "final_data[\"outcome\"] = final_data.loan_status.isin([\"Charged Off\", \"Default\"])"
   ]
  },
  {
   "cell_type": "code",
   "execution_count": 25,
   "metadata": {},
   "outputs": [],
   "source": [
    "# Create a feature for the length of a person's credit history at the\n",
    "# time the loan is issued\n",
    "final_data['cr_hist'] = (final_data.issue_d - final_data.earliest_cr_line) / np.timedelta64(1, 'M')\n",
    "continuous_features.append('cr_hist')"
   ]
  },
  {
   "cell_type": "code",
   "execution_count": 26,
   "metadata": {},
   "outputs": [],
   "source": [
    "#Create New Dti\n",
    "final_data['NMRA']=final_data['dti']*(final_data['annual_inc']/12)+ final_data['installment']\n",
    "final_data['New_dti']=final_data['NMRA']/(final_data['annual_inc']/12)\n",
    "final_data.drop('NMRA',axis=1,inplace=True)"
   ]
  },
  {
   "cell_type": "code",
   "execution_count": 27,
   "metadata": {},
   "outputs": [],
   "source": [
    "#New revol_bal\n",
    "cols=['revol_bal']\n",
    "for col in cols:\n",
    "    final_data[str(col)+\"_wrt_loanamnt\"]=final_data[col]/final_data['funded_amnt']"
   ]
  },
  {
   "cell_type": "code",
   "execution_count": 28,
   "metadata": {},
   "outputs": [],
   "source": [
    "#Creating new state categorical variables in the dataframe\n",
    "list_st=['CA','NY','TX','FL','IL','NJ','PA','GA','OH','VA']      \n",
    "\n",
    "for st in list_st:\n",
    "    final_data['state_'+st]=final_data['addr_state'].apply(lambda x: 1 if x == st else 0)"
   ]
  },
  {
   "cell_type": "code",
   "execution_count": 29,
   "metadata": {},
   "outputs": [
    {
     "name": "stderr",
     "output_type": "stream",
     "text": [
      "C:\\Users\\Thatoi\\Downloads\\Software\\Anaconda\\lib\\site-packages\\IPython\\core\\interactiveshell.py:3267: FutureWarning: specifying 'categories' or 'ordered' in .astype() is deprecated; pass a CategoricalDtype instead\n",
      "  exec(code_obj, self.user_global_ns, self.user_ns)\n"
     ]
    }
   ],
   "source": [
    "state_cols=['state_CA','state_NY','state_TX','state_FL','state_IL','state_NJ','state_PA','state_GA','state_OH','state_VA']\n",
    "for st in state_cols:\n",
    "    final_data[st]=final_data[st].astype('category',ordered=False)"
   ]
  },
  {
   "cell_type": "code",
   "execution_count": 30,
   "metadata": {},
   "outputs": [],
   "source": [
    "#change in fico\n",
    "final_data['change_in_fico'] = np.nan\n",
    "final_data['change_in_fico']  = final_data['fico_range_high']/final_data['fico_range_low']"
   ]
  },
  {
   "cell_type": "code",
   "execution_count": 31,
   "metadata": {},
   "outputs": [],
   "source": [
    "#making 3 digit zip_code\n",
    "final_data['zip_code']=final_data['zip_code'].str.strip('x').astype('int').apply(lambda x:format(x,'03d'))\n"
   ]
  },
  {
   "cell_type": "code",
   "execution_count": 32,
   "metadata": {},
   "outputs": [],
   "source": [
    "final_data = final_data.sort_values(by='zip_code')\n",
    "df_final = df_final.sort_values(by='zip_code')\n",
    "#final_data.to_csv('LendingClub_Target.csv',index=False)\n",
    "#df_eco_sel.to_csv('Socio_economic.csv',index=False)\n",
    "\n",
    "df_merge=pd.merge(final_data,df_final,on='zip_code',how = 'inner')"
   ]
  },
  {
   "cell_type": "code",
   "execution_count": 33,
   "metadata": {},
   "outputs": [
    {
     "data": {
      "text/plain": [
       "(377361, 117)"
      ]
     },
     "execution_count": 33,
     "metadata": {},
     "output_type": "execute_result"
    }
   ],
   "source": [
    "df_merge.shape"
   ]
  },
  {
   "cell_type": "markdown",
   "metadata": {},
   "source": [
    "### PCA"
   ]
  },
  {
   "cell_type": "code",
   "execution_count": 34,
   "metadata": {},
   "outputs": [],
   "source": [
    "del_columns = ['id','grade','installment','int_rate','issue_d','earliest_cr_line','emp_length', \n",
    "               'return', 'return_lc', 'outcome','term', 'home_ownership','verification_status',\n",
    "              'loan_status', 'purpose', 'total_pymnt', 'last_pymnt_d', 'recoveries', 'addr_state', 'zip_code',\n",
    "       'loan_length','state_CA', 'state_NY', 'state_TX',\n",
    "       'state_FL', 'state_IL', 'state_NJ', 'state_PA', 'state_GA', 'state_OH',\n",
    "       'state_VA']\n",
    "\n",
    "required = set(cols_to_pick) - set(del_columns)\n",
    "\n",
    "to_be_added = ['emp_length', \n",
    "               'return', 'outcome','term', 'home_ownership','verification_status',\n",
    "              'purpose','state_CA', 'state_NY', 'state_TX',\n",
    "       'state_FL', 'state_IL', 'state_NJ', 'state_PA', 'state_GA', 'state_OH',\n",
    "       'state_VA']\n",
    "\n",
    "del_col_eco = ['Id2','Pop_wt']\n",
    "required_eco = set(list_eco) - set(del_col_eco)\n",
    "\n",
    "final_list_pca=list(list(required)+list(required_eco))\n",
    "\n",
    "pca_data = df_merge[final_list_pca]"
   ]
  },
  {
   "cell_type": "code",
   "execution_count": 35,
   "metadata": {},
   "outputs": [],
   "source": [
    "#to be added to PCA\n",
    "df_add = df_merge[to_be_added]"
   ]
  },
  {
   "cell_type": "code",
   "execution_count": 36,
   "metadata": {},
   "outputs": [],
   "source": [
    "#scaling pca data\n",
    "from sklearn.preprocessing import scale\n",
    "pca_scale= scale(pca_data)"
   ]
  },
  {
   "cell_type": "code",
   "execution_count": 37,
   "metadata": {},
   "outputs": [
    {
     "data": {
      "image/png": "[encoded data removed]",
      "text/plain": [
       "<Figure size 864x432 with 1 Axes>"
      ]
     },
     "metadata": {
      "needs_background": "light"
     },
     "output_type": "display_data"
    }
   ],
   "source": [
    "#visualizing PCA\n",
    "from sklearn.decomposition import PCA\n",
    "pca = PCA().fit(pca_scale)\n",
    "#Plotting the Cumulative Summation of the Explained Variance\n",
    "plt.figure(figsize= (12,6))\n",
    "plt.plot(np.cumsum(pca.explained_variance_ratio_), ls=\"-\",color='red',marker='o')\n",
    "plt.xlabel('Number of Components',size=14,fontweight='bold')\n",
    "plt.ylabel('Variance (%)',size = 14,fontweight='bold') #for each component\n",
    "plt.title('Loan Dataset Explained Variance',size=14,fontweight='bold')\n",
    "plt.tick_params(axis = 'both', which = 'major', labelsize = 12)\n",
    "plt.show()"
   ]
  },
  {
   "cell_type": "code",
   "execution_count": 38,
   "metadata": {},
   "outputs": [],
   "source": [
    "#selecting pca components with 90% variance\n",
    "pca_1 = PCA(n_components = 10)\n",
    "pca_dataset = pd.DataFrame(pca_1.fit_transform(pca_scale))"
   ]
  },
  {
   "cell_type": "code",
   "execution_count": 39,
   "metadata": {},
   "outputs": [],
   "source": [
    "#merging with requuired columns\n",
    "df_model = pd.merge(pca_dataset,df_add, left_index = True, right_index = True)"
   ]
  },
  {
   "cell_type": "code",
   "execution_count": 40,
   "metadata": {},
   "outputs": [
    {
     "data": {
      "text/plain": [
       "Index([                    0,                     1,                     2,\n",
       "                           3,                     4,                     5,\n",
       "                           6,                     7,                     8,\n",
       "                           9,          'emp_length',              'return',\n",
       "                   'outcome',                'term',      'home_ownership',\n",
       "       'verification_status',             'purpose',            'state_CA',\n",
       "                  'state_NY',            'state_TX',            'state_FL',\n",
       "                  'state_IL',            'state_NJ',            'state_PA',\n",
       "                  'state_GA',            'state_OH',            'state_VA'],\n",
       "      dtype='object')"
      ]
     },
     "execution_count": 40,
     "metadata": {},
     "output_type": "execute_result"
    }
   ],
   "source": [
    "df_model.columns"
   ]
  },
  {
   "cell_type": "markdown",
   "metadata": {},
   "source": [
    "### SAMPLING"
   ]
  },
  {
   "cell_type": "code",
   "execution_count": 41,
   "metadata": {},
   "outputs": [
    {
     "name": "stderr",
     "output_type": "stream",
     "text": [
      "C:\\Users\\Thatoi\\Downloads\\Software\\Anaconda\\lib\\site-packages\\pandas\\core\\indexing.py:190: SettingWithCopyWarning: \n",
      "A value is trying to be set on a copy of a slice from a DataFrame\n",
      "\n",
      "See the caveats in the documentation: http://pandas.pydata.org/pandas-docs/stable/indexing.html#indexing-view-versus-copy\n",
      "  self._setitem_with_indexer(indexer, value)\n",
      "C:\\Users\\Thatoi\\Downloads\\Software\\Anaconda\\lib\\site-packages\\ipykernel_launcher.py:15: SettingWithCopyWarning: \n",
      "A value is trying to be set on a copy of a slice from a DataFrame\n",
      "\n",
      "See the caveats in the documentation: http://pandas.pydata.org/pandas-docs/stable/indexing.html#indexing-view-versus-copy\n",
      "  from ipykernel import kernelapp as app\n",
      "C:\\Users\\Thatoi\\Downloads\\Software\\Anaconda\\lib\\site-packages\\ipykernel_launcher.py:46: FutureWarning: specifying 'categories' or 'ordered' in .astype() is deprecated; pass a CategoricalDtype instead\n"
     ]
    }
   ],
   "source": [
    "# original dataset:\n",
    "value=['home_improvement','major_purchase','medical','car','small_business','moving','vacation','house']\n",
    "cat_cols=['term','emp_length','home_ownership','verification_status','purpose','state_CA', 'state_NY',\n",
    "       'state_TX', 'state_FL', 'state_IL', 'state_NJ', 'state_PA', 'state_GA',\n",
    "       'state_OH', 'state_VA']\n",
    "category =['term','emp_length','home_ownership','verification_status','purpose']\n",
    "\n",
    "def clean_df(df):\n",
    "\n",
    "    df['verification_status'].iloc[np.where(df['verification_status']=='Source Verified')]='Verified'\n",
    "    df['term'].iloc[np.where(df['term']==' 36 months')]='36months'\n",
    "    df['term'].iloc[np.where(df['term']==' 60 months')]='60months'\n",
    "    df['home_ownership'].iloc[np.where(df['home_ownership']=='ANY')]='MORTGAGE'\n",
    "    for val in value:\n",
    "        df['purpose'][df['purpose']== val]='other'\n",
    "        \n",
    "    dict={\n",
    "    '< 1 year':1,\n",
    "    '1 year': 2,\n",
    "    '2 years':3,\n",
    "    '3 years':4,\n",
    "    '4 years':5,\n",
    "    '5 years':6,\n",
    "    '6 years':7,\n",
    "    '7 years':8,\n",
    "    '8 years':9,\n",
    "    '9 years':10,\n",
    "    '10+ years':11\n",
    "    }\n",
    "    df['emp_length']=df['emp_length'].map(dict)\n",
    "    df['emp_length']=df['emp_length'].astype('category',ordered=True)\n",
    "    \n",
    "    #creating categories and floats\n",
    "    for col in cat_cols:\n",
    "        if col=='emp_length':\n",
    "            df[col]=df[col].astype('category',ordered=True)\n",
    "        else:\n",
    "            df[col]=df[col].astype('category',ordered=False)\n",
    "\n",
    "    #Dropping nulls\n",
    "    df.dropna(axis=0,inplace=True)\n",
    "    \n",
    "    df_dum= pd.DataFrame(pd.get_dummies(df, columns=category, prefix_sep = \"::\", drop_first = True))\n",
    "    return df_dum\n",
    "\n",
    "df_model_2=clean_df(df_model)"
   ]
  },
  {
   "cell_type": "code",
   "execution_count": 42,
   "metadata": {
    "scrolled": true
   },
   "outputs": [],
   "source": [
    "df_model_2.sample(200000).to_csv('regression.csv',index=False)"
   ]
  },
  {
   "cell_type": "code",
   "execution_count": 49,
   "metadata": {},
   "outputs": [
    {
     "data": {
      "text/plain": [
       "Index([                              0,                               1,\n",
       "                                     2,                               3,\n",
       "                                     4,                               5,\n",
       "                                     6,                               7,\n",
       "                                     8,                               9,\n",
       "                              'return',                       'outcome',\n",
       "                            'state_CA',                      'state_NY',\n",
       "                            'state_TX',                      'state_FL',\n",
       "                            'state_IL',                      'state_NJ',\n",
       "                            'state_PA',                      'state_GA',\n",
       "                            'state_OH',                      'state_VA',\n",
       "                      'term::60months',               'emp_length::2.0',\n",
       "                     'emp_length::3.0',               'emp_length::4.0',\n",
       "                     'emp_length::5.0',               'emp_length::6.0',\n",
       "                     'emp_length::7.0',               'emp_length::8.0',\n",
       "                     'emp_length::9.0',              'emp_length::10.0',\n",
       "                    'emp_length::11.0',           'home_ownership::OWN',\n",
       "                'home_ownership::RENT', 'verification_status::Verified',\n",
       "         'purpose::debt_consolidation',          'purpose::educational',\n",
       "                      'purpose::other',     'purpose::renewable_energy',\n",
       "                    'purpose::wedding'],\n",
       "      dtype='object')"
      ]
     },
     "execution_count": 49,
     "metadata": {},
     "output_type": "execute_result"
    }
   ],
   "source": [
    "df_model_2.columns"
   ]
  },
  {
   "cell_type": "code",
   "execution_count": 46,
   "metadata": {},
   "outputs": [],
   "source": [
    "Y = df_model_2['outcome']\n",
    "X = df_model_2.drop(['outcome','return','return_lc'],axis=1)\n",
    "Z = df_model_2[['return','return_lc']]"
   ]
  },
  {
   "cell_type": "markdown",
   "metadata": {},
   "source": [
    "#### Random Under Sampling"
   ]
  },
  {
   "cell_type": "code",
   "execution_count": 47,
   "metadata": {},
   "outputs": [
    {
     "name": "stdout",
     "output_type": "stream",
     "text": [
      "Resampled dataset shape Counter({False: 70702, True: 70702})\n"
     ]
    }
   ],
   "source": [
    "from collections import Counter\n",
    "from imblearn.under_sampling import RandomUnderSampler\n",
    "\n",
    "rus = RandomUnderSampler(random_state=42)\n",
    "X_rus, Y_rus = rus.fit_resample(X,Y)\n",
    "print('Resampled dataset shape %s' % Counter(Y_rus))"
   ]
  },
  {
   "cell_type": "code",
   "execution_count": 48,
   "metadata": {},
   "outputs": [],
   "source": [
    "#creating RUS dataframe\n",
    "X_rus = pd.DataFrame(X_rus)\n",
    "Y_rus = pd.DataFrame(Y_rus).rename(columns={0:'outcome'})\n",
    "RUS_sample_1 = pd.merge(X_rus,Y_rus, left_index= True, right_index=True)\n",
    "#RUS_sample = pd.merge(RUS_sample_1,Z,left_index= True, right_index=True)\n"
   ]
  },
  {
   "cell_type": "code",
   "execution_count": 49,
   "metadata": {},
   "outputs": [
    {
     "data": {
      "text/plain": [
       "(141404, 40)"
      ]
     },
     "execution_count": 49,
     "metadata": {},
     "output_type": "execute_result"
    }
   ],
   "source": [
    "RUS_sample_1.shape"
   ]
  },
  {
   "cell_type": "markdown",
   "metadata": {},
   "source": [
    "#### Random Over Sampling"
   ]
  },
  {
   "cell_type": "code",
   "execution_count": 50,
   "metadata": {},
   "outputs": [
    {
     "name": "stdout",
     "output_type": "stream",
     "text": [
      "Resampled dataset shape Counter({True: 284576, False: 284576})\n"
     ]
    }
   ],
   "source": [
    "from imblearn.over_sampling import RandomOverSampler\n",
    "\n",
    "ros = RandomOverSampler(random_state=42)\n",
    "X_ros, Y_ros = ros.fit_resample(X,Y)\n",
    "print('Resampled dataset shape %s' % Counter(Y_ros))"
   ]
  },
  {
   "cell_type": "code",
   "execution_count": 51,
   "metadata": {},
   "outputs": [
    {
     "data": {
      "text/html": [
       "<div>\n",
       "<style scoped>\n",
       "    .dataframe tbody tr th:only-of-type {\n",
       "        vertical-align: middle;\n",
       "    }\n",
       "\n",
       "    .dataframe tbody tr th {\n",
       "        vertical-align: top;\n",
       "    }\n",
       "\n",
       "    .dataframe thead th {\n",
       "        text-align: right;\n",
       "    }\n",
       "</style>\n",
       "<table border=\"1\" class=\"dataframe\">\n",
       "  <thead>\n",
       "    <tr style=\"text-align: right;\">\n",
       "      <th></th>\n",
       "      <th>0</th>\n",
       "      <th>1</th>\n",
       "      <th>2</th>\n",
       "      <th>3</th>\n",
       "      <th>4</th>\n",
       "      <th>5</th>\n",
       "      <th>6</th>\n",
       "      <th>7</th>\n",
       "      <th>8</th>\n",
       "      <th>9</th>\n",
       "      <th>...</th>\n",
       "      <th>30</th>\n",
       "      <th>31</th>\n",
       "      <th>32</th>\n",
       "      <th>33</th>\n",
       "      <th>34</th>\n",
       "      <th>35</th>\n",
       "      <th>36</th>\n",
       "      <th>37</th>\n",
       "      <th>38</th>\n",
       "      <th>outcome</th>\n",
       "    </tr>\n",
       "  </thead>\n",
       "  <tbody>\n",
       "    <tr>\n",
       "      <th>0</th>\n",
       "      <td>-2.22477</td>\n",
       "      <td>-1.73717</td>\n",
       "      <td>1.68544</td>\n",
       "      <td>2.21328</td>\n",
       "      <td>3.04508</td>\n",
       "      <td>-0.179142</td>\n",
       "      <td>0.660474</td>\n",
       "      <td>0.0424036</td>\n",
       "      <td>-0.544269</td>\n",
       "      <td>-0.386674</td>\n",
       "      <td>...</td>\n",
       "      <td>0</td>\n",
       "      <td>0</td>\n",
       "      <td>1</td>\n",
       "      <td>1</td>\n",
       "      <td>0</td>\n",
       "      <td>0</td>\n",
       "      <td>0</td>\n",
       "      <td>0</td>\n",
       "      <td>0</td>\n",
       "      <td>True</td>\n",
       "    </tr>\n",
       "    <tr>\n",
       "      <th>1</th>\n",
       "      <td>-3.03159</td>\n",
       "      <td>0.433212</td>\n",
       "      <td>0.130574</td>\n",
       "      <td>0.327639</td>\n",
       "      <td>0.753624</td>\n",
       "      <td>0.636973</td>\n",
       "      <td>1.24849</td>\n",
       "      <td>0.604294</td>\n",
       "      <td>0.262102</td>\n",
       "      <td>-0.0947518</td>\n",
       "      <td>...</td>\n",
       "      <td>0</td>\n",
       "      <td>0</td>\n",
       "      <td>1</td>\n",
       "      <td>1</td>\n",
       "      <td>1</td>\n",
       "      <td>0</td>\n",
       "      <td>0</td>\n",
       "      <td>0</td>\n",
       "      <td>0</td>\n",
       "      <td>False</td>\n",
       "    </tr>\n",
       "    <tr>\n",
       "      <th>2</th>\n",
       "      <td>-3.03196</td>\n",
       "      <td>0.359166</td>\n",
       "      <td>2.66976</td>\n",
       "      <td>-1.29868</td>\n",
       "      <td>0.221496</td>\n",
       "      <td>-0.533318</td>\n",
       "      <td>-1.43208</td>\n",
       "      <td>2.33049</td>\n",
       "      <td>3.86898</td>\n",
       "      <td>0.000570241</td>\n",
       "      <td>...</td>\n",
       "      <td>0</td>\n",
       "      <td>0</td>\n",
       "      <td>0</td>\n",
       "      <td>1</td>\n",
       "      <td>0</td>\n",
       "      <td>0</td>\n",
       "      <td>0</td>\n",
       "      <td>0</td>\n",
       "      <td>0</td>\n",
       "      <td>False</td>\n",
       "    </tr>\n",
       "    <tr>\n",
       "      <th>3</th>\n",
       "      <td>-3.0281</td>\n",
       "      <td>0.397928</td>\n",
       "      <td>0.956711</td>\n",
       "      <td>-0.021735</td>\n",
       "      <td>-0.0550996</td>\n",
       "      <td>0.502466</td>\n",
       "      <td>0.55001</td>\n",
       "      <td>-0.434514</td>\n",
       "      <td>0.12857</td>\n",
       "      <td>-0.240585</td>\n",
       "      <td>...</td>\n",
       "      <td>1</td>\n",
       "      <td>0</td>\n",
       "      <td>0</td>\n",
       "      <td>1</td>\n",
       "      <td>1</td>\n",
       "      <td>0</td>\n",
       "      <td>0</td>\n",
       "      <td>0</td>\n",
       "      <td>0</td>\n",
       "      <td>True</td>\n",
       "    </tr>\n",
       "    <tr>\n",
       "      <th>4</th>\n",
       "      <td>-3.02907</td>\n",
       "      <td>0.46018</td>\n",
       "      <td>0.169179</td>\n",
       "      <td>0.255842</td>\n",
       "      <td>0.759899</td>\n",
       "      <td>-0.0426589</td>\n",
       "      <td>-0.286276</td>\n",
       "      <td>0.397394</td>\n",
       "      <td>-0.616653</td>\n",
       "      <td>-0.364359</td>\n",
       "      <td>...</td>\n",
       "      <td>0</td>\n",
       "      <td>1</td>\n",
       "      <td>0</td>\n",
       "      <td>1</td>\n",
       "      <td>0</td>\n",
       "      <td>0</td>\n",
       "      <td>0</td>\n",
       "      <td>0</td>\n",
       "      <td>0</td>\n",
       "      <td>False</td>\n",
       "    </tr>\n",
       "  </tbody>\n",
       "</table>\n",
       "<p>5 rows × 40 columns</p>\n",
       "</div>"
      ],
      "text/plain": [
       "         0         1         2         3          4          5         6  \\\n",
       "0 -2.22477  -1.73717   1.68544   2.21328    3.04508  -0.179142  0.660474   \n",
       "1 -3.03159  0.433212  0.130574  0.327639   0.753624   0.636973   1.24849   \n",
       "2 -3.03196  0.359166   2.66976  -1.29868   0.221496  -0.533318  -1.43208   \n",
       "3  -3.0281  0.397928  0.956711 -0.021735 -0.0550996   0.502466   0.55001   \n",
       "4 -3.02907   0.46018  0.169179  0.255842   0.759899 -0.0426589 -0.286276   \n",
       "\n",
       "           7         8            9  ... 30 31 32 33 34 35 36 37 38 outcome  \n",
       "0  0.0424036 -0.544269    -0.386674  ...  0  0  1  1  0  0  0  0  0    True  \n",
       "1   0.604294  0.262102   -0.0947518  ...  0  0  1  1  1  0  0  0  0   False  \n",
       "2    2.33049   3.86898  0.000570241  ...  0  0  0  1  0  0  0  0  0   False  \n",
       "3  -0.434514   0.12857    -0.240585  ...  1  0  0  1  1  0  0  0  0    True  \n",
       "4   0.397394 -0.616653    -0.364359  ...  0  1  0  1  0  0  0  0  0   False  \n",
       "\n",
       "[5 rows x 40 columns]"
      ]
     },
     "execution_count": 51,
     "metadata": {},
     "output_type": "execute_result"
    }
   ],
   "source": [
    "#creating RUS dataframe\n",
    "X_ros = pd.DataFrame(X_ros)\n",
    "Y_ros = pd.DataFrame(Y_ros).rename(columns={0:'outcome'})\n",
    "ROS_sample_1 = pd.merge(X_ros,Y_ros, left_index= True, right_index=True)\n",
    "#ROS_sample = pd.merge(ROS_sample_1,Z,left_index= True, right_index=True)\n",
    "ROS_sample_1.head()"
   ]
  },
  {
   "cell_type": "code",
   "execution_count": 52,
   "metadata": {},
   "outputs": [
    {
     "data": {
      "text/plain": [
       "True     284576\n",
       "False    284576\n",
       "Name: outcome, dtype: int64"
      ]
     },
     "execution_count": 52,
     "metadata": {},
     "output_type": "execute_result"
    }
   ],
   "source": [
    "ROS_sample_1['outcome'].value_counts()"
   ]
  },
  {
   "cell_type": "markdown",
   "metadata": {},
   "source": [
    "#### SMOTE"
   ]
  },
  {
   "cell_type": "code",
   "execution_count": 53,
   "metadata": {},
   "outputs": [
    {
     "name": "stdout",
     "output_type": "stream",
     "text": [
      "Resampled dataset shape Counter({True: 284576, False: 284576})\n"
     ]
    }
   ],
   "source": [
    "from imblearn.over_sampling import SMOTENC\n",
    "smote = SMOTENC(categorical_features=[10,11,12,13,14,15,16,17,18,19,20,21,22,23,24,25,26,27,28,29,30\n",
    "                                      ,31,32,33,34,35,36,37,38])\n",
    "X_sm, Y_sm = smote.fit_sample(X, Y)\n",
    "print('Resampled dataset shape %s' % Counter(Y_sm))"
   ]
  },
  {
   "cell_type": "code",
   "execution_count": 54,
   "metadata": {},
   "outputs": [
    {
     "data": {
      "text/html": [
       "<div>\n",
       "<style scoped>\n",
       "    .dataframe tbody tr th:only-of-type {\n",
       "        vertical-align: middle;\n",
       "    }\n",
       "\n",
       "    .dataframe tbody tr th {\n",
       "        vertical-align: top;\n",
       "    }\n",
       "\n",
       "    .dataframe thead th {\n",
       "        text-align: right;\n",
       "    }\n",
       "</style>\n",
       "<table border=\"1\" class=\"dataframe\">\n",
       "  <thead>\n",
       "    <tr style=\"text-align: right;\">\n",
       "      <th></th>\n",
       "      <th>0</th>\n",
       "      <th>1</th>\n",
       "      <th>2</th>\n",
       "      <th>3</th>\n",
       "      <th>4</th>\n",
       "      <th>5</th>\n",
       "      <th>6</th>\n",
       "      <th>7</th>\n",
       "      <th>8</th>\n",
       "      <th>9</th>\n",
       "      <th>...</th>\n",
       "      <th>30</th>\n",
       "      <th>31</th>\n",
       "      <th>32</th>\n",
       "      <th>33</th>\n",
       "      <th>34</th>\n",
       "      <th>35</th>\n",
       "      <th>36</th>\n",
       "      <th>37</th>\n",
       "      <th>38</th>\n",
       "      <th>outcome</th>\n",
       "    </tr>\n",
       "  </thead>\n",
       "  <tbody>\n",
       "    <tr>\n",
       "      <th>0</th>\n",
       "      <td>-2.22477</td>\n",
       "      <td>-1.73717</td>\n",
       "      <td>1.68544</td>\n",
       "      <td>2.21328</td>\n",
       "      <td>3.04508</td>\n",
       "      <td>-0.179142</td>\n",
       "      <td>0.660474</td>\n",
       "      <td>0.0424036</td>\n",
       "      <td>-0.544269</td>\n",
       "      <td>-0.386674</td>\n",
       "      <td>...</td>\n",
       "      <td>0</td>\n",
       "      <td>0</td>\n",
       "      <td>1</td>\n",
       "      <td>1</td>\n",
       "      <td>0</td>\n",
       "      <td>0</td>\n",
       "      <td>0</td>\n",
       "      <td>0</td>\n",
       "      <td>0</td>\n",
       "      <td>True</td>\n",
       "    </tr>\n",
       "    <tr>\n",
       "      <th>1</th>\n",
       "      <td>-3.03159</td>\n",
       "      <td>0.433212</td>\n",
       "      <td>0.130574</td>\n",
       "      <td>0.327639</td>\n",
       "      <td>0.753624</td>\n",
       "      <td>0.636973</td>\n",
       "      <td>1.24849</td>\n",
       "      <td>0.604294</td>\n",
       "      <td>0.262102</td>\n",
       "      <td>-0.0947518</td>\n",
       "      <td>...</td>\n",
       "      <td>0</td>\n",
       "      <td>0</td>\n",
       "      <td>1</td>\n",
       "      <td>1</td>\n",
       "      <td>1</td>\n",
       "      <td>0</td>\n",
       "      <td>0</td>\n",
       "      <td>0</td>\n",
       "      <td>0</td>\n",
       "      <td>False</td>\n",
       "    </tr>\n",
       "    <tr>\n",
       "      <th>2</th>\n",
       "      <td>-3.03196</td>\n",
       "      <td>0.359166</td>\n",
       "      <td>2.66976</td>\n",
       "      <td>-1.29868</td>\n",
       "      <td>0.221496</td>\n",
       "      <td>-0.533318</td>\n",
       "      <td>-1.43208</td>\n",
       "      <td>2.33049</td>\n",
       "      <td>3.86898</td>\n",
       "      <td>0.000570241</td>\n",
       "      <td>...</td>\n",
       "      <td>0</td>\n",
       "      <td>0</td>\n",
       "      <td>0</td>\n",
       "      <td>1</td>\n",
       "      <td>0</td>\n",
       "      <td>0</td>\n",
       "      <td>0</td>\n",
       "      <td>0</td>\n",
       "      <td>0</td>\n",
       "      <td>False</td>\n",
       "    </tr>\n",
       "    <tr>\n",
       "      <th>3</th>\n",
       "      <td>-3.0281</td>\n",
       "      <td>0.397928</td>\n",
       "      <td>0.956711</td>\n",
       "      <td>-0.021735</td>\n",
       "      <td>-0.0550996</td>\n",
       "      <td>0.502466</td>\n",
       "      <td>0.55001</td>\n",
       "      <td>-0.434514</td>\n",
       "      <td>0.12857</td>\n",
       "      <td>-0.240585</td>\n",
       "      <td>...</td>\n",
       "      <td>1</td>\n",
       "      <td>0</td>\n",
       "      <td>0</td>\n",
       "      <td>1</td>\n",
       "      <td>1</td>\n",
       "      <td>0</td>\n",
       "      <td>0</td>\n",
       "      <td>0</td>\n",
       "      <td>0</td>\n",
       "      <td>True</td>\n",
       "    </tr>\n",
       "    <tr>\n",
       "      <th>4</th>\n",
       "      <td>-3.02907</td>\n",
       "      <td>0.46018</td>\n",
       "      <td>0.169179</td>\n",
       "      <td>0.255842</td>\n",
       "      <td>0.759899</td>\n",
       "      <td>-0.0426589</td>\n",
       "      <td>-0.286276</td>\n",
       "      <td>0.397394</td>\n",
       "      <td>-0.616653</td>\n",
       "      <td>-0.364359</td>\n",
       "      <td>...</td>\n",
       "      <td>0</td>\n",
       "      <td>1</td>\n",
       "      <td>0</td>\n",
       "      <td>1</td>\n",
       "      <td>0</td>\n",
       "      <td>0</td>\n",
       "      <td>0</td>\n",
       "      <td>0</td>\n",
       "      <td>0</td>\n",
       "      <td>False</td>\n",
       "    </tr>\n",
       "  </tbody>\n",
       "</table>\n",
       "<p>5 rows × 40 columns</p>\n",
       "</div>"
      ],
      "text/plain": [
       "         0         1         2         3          4          5         6  \\\n",
       "0 -2.22477  -1.73717   1.68544   2.21328    3.04508  -0.179142  0.660474   \n",
       "1 -3.03159  0.433212  0.130574  0.327639   0.753624   0.636973   1.24849   \n",
       "2 -3.03196  0.359166   2.66976  -1.29868   0.221496  -0.533318  -1.43208   \n",
       "3  -3.0281  0.397928  0.956711 -0.021735 -0.0550996   0.502466   0.55001   \n",
       "4 -3.02907   0.46018  0.169179  0.255842   0.759899 -0.0426589 -0.286276   \n",
       "\n",
       "           7         8            9  ... 30 31 32 33 34 35 36 37 38 outcome  \n",
       "0  0.0424036 -0.544269    -0.386674  ...  0  0  1  1  0  0  0  0  0    True  \n",
       "1   0.604294  0.262102   -0.0947518  ...  0  0  1  1  1  0  0  0  0   False  \n",
       "2    2.33049   3.86898  0.000570241  ...  0  0  0  1  0  0  0  0  0   False  \n",
       "3  -0.434514   0.12857    -0.240585  ...  1  0  0  1  1  0  0  0  0    True  \n",
       "4   0.397394 -0.616653    -0.364359  ...  0  1  0  1  0  0  0  0  0   False  \n",
       "\n",
       "[5 rows x 40 columns]"
      ]
     },
     "execution_count": 54,
     "metadata": {},
     "output_type": "execute_result"
    }
   ],
   "source": [
    "#creating RUS dataframe\n",
    "X_sm = pd.DataFrame(X_sm)\n",
    "Y_sm = pd.DataFrame(Y_sm).rename(columns={0:'outcome'})\n",
    "SMOTE_sample_1 = pd.merge(X_sm,Y_sm, left_index= True, right_index=True)\n",
    "#SMOTE_sample = pd.merge(SMOTE_sample_1,Z, left_index=True,right_index=True)\n",
    "SMOTE_sample_1.head()"
   ]
  },
  {
   "cell_type": "code",
   "execution_count": 55,
   "metadata": {},
   "outputs": [
    {
     "data": {
      "text/plain": [
       "True     284576\n",
       "False    284576\n",
       "Name: outcome, dtype: int64"
      ]
     },
     "execution_count": 55,
     "metadata": {},
     "output_type": "execute_result"
    }
   ],
   "source": [
    "SMOTE_sample_1['outcome'].value_counts()"
   ]
  },
  {
   "cell_type": "code",
   "execution_count": 56,
   "metadata": {},
   "outputs": [
    {
     "name": "stdout",
     "output_type": "stream",
     "text": [
      "(569152, 40)\n",
      "(141404, 40)\n",
      "(569152, 40)\n"
     ]
    }
   ],
   "source": [
    "print(SMOTE_sample_1.shape)\n",
    "print(RUS_sample_1.shape)\n",
    "print(ROS_sample_1.shape)"
   ]
  },
  {
   "cell_type": "markdown",
   "metadata": {},
   "source": [
    "#### ADASYN"
   ]
  },
  {
   "cell_type": "code",
   "execution_count": 57,
   "metadata": {},
   "outputs": [
    {
     "name": "stdout",
     "output_type": "stream",
     "text": [
      "Resampled dataset shape Counter({False: 284576, True: 273427})\n"
     ]
    }
   ],
   "source": [
    "from imblearn.over_sampling import ADASYN \n",
    "smote = ADASYN (ratio='minority')\n",
    "X_ada, Y_ada = smote.fit_sample(X, Y)\n",
    "print('Resampled dataset shape %s' % Counter(Y_ada))"
   ]
  },
  {
   "cell_type": "code",
   "execution_count": 58,
   "metadata": {},
   "outputs": [
    {
     "data": {
      "text/html": [
       "<div>\n",
       "<style scoped>\n",
       "    .dataframe tbody tr th:only-of-type {\n",
       "        vertical-align: middle;\n",
       "    }\n",
       "\n",
       "    .dataframe tbody tr th {\n",
       "        vertical-align: top;\n",
       "    }\n",
       "\n",
       "    .dataframe thead th {\n",
       "        text-align: right;\n",
       "    }\n",
       "</style>\n",
       "<table border=\"1\" class=\"dataframe\">\n",
       "  <thead>\n",
       "    <tr style=\"text-align: right;\">\n",
       "      <th></th>\n",
       "      <th>0</th>\n",
       "      <th>1</th>\n",
       "      <th>2</th>\n",
       "      <th>3</th>\n",
       "      <th>4</th>\n",
       "      <th>5</th>\n",
       "      <th>6</th>\n",
       "      <th>7</th>\n",
       "      <th>8</th>\n",
       "      <th>9</th>\n",
       "      <th>...</th>\n",
       "      <th>32</th>\n",
       "      <th>33</th>\n",
       "      <th>34</th>\n",
       "      <th>35</th>\n",
       "      <th>36</th>\n",
       "      <th>37</th>\n",
       "      <th>38</th>\n",
       "      <th>outcome</th>\n",
       "      <th>return</th>\n",
       "      <th>return_lc</th>\n",
       "    </tr>\n",
       "  </thead>\n",
       "  <tbody>\n",
       "    <tr>\n",
       "      <th>0</th>\n",
       "      <td>-2.22477</td>\n",
       "      <td>-1.73717</td>\n",
       "      <td>1.68544</td>\n",
       "      <td>2.21328</td>\n",
       "      <td>3.04508</td>\n",
       "      <td>-0.179142</td>\n",
       "      <td>0.660474</td>\n",
       "      <td>0.0424036</td>\n",
       "      <td>-0.544269</td>\n",
       "      <td>-0.386674</td>\n",
       "      <td>...</td>\n",
       "      <td>1</td>\n",
       "      <td>1</td>\n",
       "      <td>0</td>\n",
       "      <td>0</td>\n",
       "      <td>0</td>\n",
       "      <td>0</td>\n",
       "      <td>0</td>\n",
       "      <td>True</td>\n",
       "      <td>-0.042214</td>\n",
       "      <td>-0.033896</td>\n",
       "    </tr>\n",
       "    <tr>\n",
       "      <th>1</th>\n",
       "      <td>-3.03159</td>\n",
       "      <td>0.433212</td>\n",
       "      <td>0.130574</td>\n",
       "      <td>0.327639</td>\n",
       "      <td>0.753624</td>\n",
       "      <td>0.636973</td>\n",
       "      <td>1.24849</td>\n",
       "      <td>0.604294</td>\n",
       "      <td>0.262102</td>\n",
       "      <td>-0.0947518</td>\n",
       "      <td>...</td>\n",
       "      <td>1</td>\n",
       "      <td>1</td>\n",
       "      <td>1</td>\n",
       "      <td>0</td>\n",
       "      <td>0</td>\n",
       "      <td>0</td>\n",
       "      <td>0</td>\n",
       "      <td>False</td>\n",
       "      <td>0.037055</td>\n",
       "      <td>0.031424</td>\n",
       "    </tr>\n",
       "    <tr>\n",
       "      <th>2</th>\n",
       "      <td>-3.03196</td>\n",
       "      <td>0.359166</td>\n",
       "      <td>2.66976</td>\n",
       "      <td>-1.29868</td>\n",
       "      <td>0.221496</td>\n",
       "      <td>-0.533318</td>\n",
       "      <td>-1.43208</td>\n",
       "      <td>2.33049</td>\n",
       "      <td>3.86898</td>\n",
       "      <td>0.000570241</td>\n",
       "      <td>...</td>\n",
       "      <td>0</td>\n",
       "      <td>1</td>\n",
       "      <td>0</td>\n",
       "      <td>0</td>\n",
       "      <td>0</td>\n",
       "      <td>0</td>\n",
       "      <td>0</td>\n",
       "      <td>False</td>\n",
       "      <td>0.063240</td>\n",
       "      <td>0.044853</td>\n",
       "    </tr>\n",
       "    <tr>\n",
       "      <th>3</th>\n",
       "      <td>-3.0281</td>\n",
       "      <td>0.397928</td>\n",
       "      <td>0.956711</td>\n",
       "      <td>-0.021735</td>\n",
       "      <td>-0.0550996</td>\n",
       "      <td>0.502466</td>\n",
       "      <td>0.55001</td>\n",
       "      <td>-0.434514</td>\n",
       "      <td>0.12857</td>\n",
       "      <td>-0.240585</td>\n",
       "      <td>...</td>\n",
       "      <td>0</td>\n",
       "      <td>1</td>\n",
       "      <td>1</td>\n",
       "      <td>0</td>\n",
       "      <td>0</td>\n",
       "      <td>0</td>\n",
       "      <td>0</td>\n",
       "      <td>True</td>\n",
       "      <td>-0.031473</td>\n",
       "      <td>-0.028669</td>\n",
       "    </tr>\n",
       "    <tr>\n",
       "      <th>4</th>\n",
       "      <td>-3.02907</td>\n",
       "      <td>0.46018</td>\n",
       "      <td>0.169179</td>\n",
       "      <td>0.255842</td>\n",
       "      <td>0.759899</td>\n",
       "      <td>-0.0426589</td>\n",
       "      <td>-0.286276</td>\n",
       "      <td>0.397394</td>\n",
       "      <td>-0.616653</td>\n",
       "      <td>-0.364359</td>\n",
       "      <td>...</td>\n",
       "      <td>0</td>\n",
       "      <td>1</td>\n",
       "      <td>0</td>\n",
       "      <td>0</td>\n",
       "      <td>0</td>\n",
       "      <td>0</td>\n",
       "      <td>0</td>\n",
       "      <td>False</td>\n",
       "      <td>0.073479</td>\n",
       "      <td>0.052115</td>\n",
       "    </tr>\n",
       "  </tbody>\n",
       "</table>\n",
       "<p>5 rows × 42 columns</p>\n",
       "</div>"
      ],
      "text/plain": [
       "         0         1         2         3          4          5         6  \\\n",
       "0 -2.22477  -1.73717   1.68544   2.21328    3.04508  -0.179142  0.660474   \n",
       "1 -3.03159  0.433212  0.130574  0.327639   0.753624   0.636973   1.24849   \n",
       "2 -3.03196  0.359166   2.66976  -1.29868   0.221496  -0.533318  -1.43208   \n",
       "3  -3.0281  0.397928  0.956711 -0.021735 -0.0550996   0.502466   0.55001   \n",
       "4 -3.02907   0.46018  0.169179  0.255842   0.759899 -0.0426589 -0.286276   \n",
       "\n",
       "           7         8            9  ... 32 33 34 35 36 37 38 outcome  \\\n",
       "0  0.0424036 -0.544269    -0.386674  ...  1  1  0  0  0  0  0    True   \n",
       "1   0.604294  0.262102   -0.0947518  ...  1  1  1  0  0  0  0   False   \n",
       "2    2.33049   3.86898  0.000570241  ...  0  1  0  0  0  0  0   False   \n",
       "3  -0.434514   0.12857    -0.240585  ...  0  1  1  0  0  0  0    True   \n",
       "4   0.397394 -0.616653    -0.364359  ...  0  1  0  0  0  0  0   False   \n",
       "\n",
       "     return return_lc  \n",
       "0 -0.042214 -0.033896  \n",
       "1  0.037055  0.031424  \n",
       "2  0.063240  0.044853  \n",
       "3 -0.031473 -0.028669  \n",
       "4  0.073479  0.052115  \n",
       "\n",
       "[5 rows x 42 columns]"
      ]
     },
     "execution_count": 58,
     "metadata": {},
     "output_type": "execute_result"
    }
   ],
   "source": [
    "#creating RUS dataframe\n",
    "X_ada = pd.DataFrame(X_ada)\n",
    "Y_ada = pd.DataFrame(Y_ada).rename(columns={0:'outcome'})\n",
    "ADA_sample_1 = pd.merge(X_ada,Y_ada, left_index= True, right_index=True)\n",
    "ADA_sample = pd.merge(SMOTE_sample_1,Z, left_index=True,right_index=True)\n",
    "ADA_sample.head()"
   ]
  },
  {
   "cell_type": "markdown",
   "metadata": {},
   "source": [
    "#### Writing Sample dataset"
   ]
  },
  {
   "cell_type": "code",
   "execution_count": 59,
   "metadata": {},
   "outputs": [],
   "source": [
    "os.chdir(r\"D:/\")\n",
    "#RUS_sample_1.to_csv('RUS_Sample.csv',index=False)\n",
    "#ROS_sample_1.to_csv('ROS_Sample.csv',index=False)\n",
    "#SMOTE_sample_1.to_csv('SMOTE_Sample.csv',index=False)\n",
    "#ADA_sample.to_csv('ADASYN_Sample.csv',index=False)\n",
    "#ret_cols=['return']\n",
    "#pickle.dump( [df_eco_sel,final_data, discrete_features, continuous_features, ret_cols,geo_cols,list_eco], open(pickle_file, \"wb\") )"
   ]
  }
 ],
 "metadata": {
  "kernelspec": {
   "display_name": "Python 3",
   "language": "python",
   "name": "python3"
  },
  "language_info": {
   "codemirror_mode": {
    "name": "ipython",
    "version": 3
   },
   "file_extension": ".py",
   "mimetype": "text/x-python",
   "name": "python",
   "nbconvert_exporter": "python",
   "pygments_lexer": "ipython3",
   "version": "3.6.8"
  }
 },
 "nbformat": 4,
 "nbformat_minor": 2
}
