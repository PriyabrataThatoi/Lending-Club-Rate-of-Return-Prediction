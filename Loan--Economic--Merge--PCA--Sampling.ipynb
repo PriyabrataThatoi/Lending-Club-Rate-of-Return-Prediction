{
 "cells": [
  {
   "cell_type": "markdown",
   "metadata": {},
   "source": [
    "#              Lending Club Loans and Economic Metrics Processing Script"
   ]
  },
  {
   "cell_type": "markdown",
   "metadata": {},
   "source": [
    "\n",
    "1. This script will fetch Lending Club loans for the year 2015, collected from https://www.lendingclub.com/info/download-data.action and economic metrics for the year 2017, collected from American Fact Finder at https://factfinder.census.gov/faces/nav/jsf/pages/searchresults.xhtml?refresh=t for individual zip code of United States of America\n",
    "\n",
    "2. This script will clean Lending Club loan data and create the target variable to calculate return\n",
    "\n",
    "3. This script will clean Economic metric data and create population weight for each 3-digit zip code\n",
    "\n",
    "4. This script will create population weighted economic metrics and merge them with Lending Club loan data\n",
    "\n",
    "5. This script will create new features such as cr_hist, new_dti, top1 10 states by Charged_Off loans & change_in_fico\n",
    "\n",
    "5. This script will create re-sample data based on Random Under Sampling, Random Over Sampling and SMOTE after PCA"
   ]
  },
  {
   "cell_type": "markdown",
   "metadata": {},
   "source": [
    "### Libraries"
   ]
  },
  {
   "cell_type": "code",
   "execution_count": 2,
   "metadata": {},
   "outputs": [],
   "source": [
    "import pandas as pd\n",
    "import os\n",
    "from sys import platform\n",
    "import matplotlib.pyplot as plt\n",
    "import datetime\n",
    "import numpy as np\n",
    "import pickle\n",
    "import seaborn\n",
    "import warnings\n",
    "warnings.filterwarnings(\"ignore\")"
   ]
  },
  {
   "cell_type": "markdown",
   "metadata": {},
   "source": [
    "### Definitions"
   ]
  },
  {
   "cell_type": "markdown",
   "metadata": {},
   "source": [
    "##### 1. Defining directory to read"
   ]
  },
  {
   "cell_type": "code",
   "execution_count": 12,
   "metadata": {},
   "outputs": [],
   "source": [
    "def is_integer(x):\n",
    "    try:\n",
    "        return (int(x) == float(x))\n",
    "    except:\n",
    "        return False\n",
    "\n",
    "# Define the directories that contain the files downloaded \n",
    "dir_2015 = \"/\".join( [\"D:\"]+[\"LendingClubData2016\"] )"
   ]
  },
  {
   "cell_type": "markdown",
   "metadata": {},
   "source": [
    "##### 2. Defining read and skip unwanted rows"
   ]
  },
  {
   "cell_type": "code",
   "execution_count": 4,
   "metadata": {},
   "outputs": [],
   "source": [
    "def ingest_files(directory):\n",
    "    \n",
    "    # Adding Slash if not available\n",
    "    if directory[-1] != \"/\":\n",
    "        directory = directory + \"/\"\n",
    "    \n",
    "    all_files = os.listdir(directory)\n",
    "    output = {}\n",
    "    \n",
    "    print(\"Directory \" + directory + \" has \" + str(len(all_files)) + \" files:\")\n",
    "    for i in all_files:\n",
    "        print(\"    Reading file \" + i)\n",
    "        output[i] = pd.read_csv(directory + i, dtype = str, skiprows = 1)\n",
    "        \n",
    "        # Some of the files have \"summary\" lines are invalid and needs to be removed\n",
    "        invalid_rows = (output[i].id.apply( lambda x : is_integer(x) == False ))\n",
    "        if invalid_rows.sum() > 0:\n",
    "            print(\"        Found \" + str(invalid_rows.sum()) + \" invalid rows which were removed\")\n",
    "            output[i] = output[i][invalid_rows == False]\n",
    "    \n",
    "    return output"
   ]
  },
  {
   "cell_type": "markdown",
   "metadata": {},
   "source": [
    "##### 3. Defining return target variable"
   ]
  },
  {
   "cell_type": "code",
   "execution_count": 5,
   "metadata": {},
   "outputs": [],
   "source": [
    "def ret_method_3(T, i):\n",
    "    actual_installment = (final_data.total_pymnt - final_data.recoveries) / final_data['loan_length']\n",
    "    cash_by_end_of_loan = actual_installment * (1 - pow(1 + i, final_data.loan_length)) / ( 1 - (1 + i) )\n",
    "    cash_by_end_of_loan = cash_by_end_of_loan + final_data.recoveries\n",
    "    remaining_months = T - final_data['loan_length']\n",
    "    final_return = cash_by_end_of_loan * pow(1 + i, remaining_months)\n",
    "    return( (12/T) * ( ( final_return - final_data['funded_amnt'] ) / final_data['funded_amnt'] ) )\n"
   ]
  },
  {
   "cell_type": "markdown",
   "metadata": {},
   "source": [
    "##### 4. Defining Population weight"
   ]
  },
  {
   "cell_type": "code",
   "execution_count": 6,
   "metadata": {},
   "outputs": [],
   "source": [
    "def create_eco_file(df_t):\n",
    "    \n",
    "    #making zip code as 5 digit code\n",
    "    df_t['Id2']=df_t['Id2'].apply(lambda x:format(x,'05d'))\n",
    "\n",
    "    #striping last two digits\n",
    "    df_t['Id2'] = df_t['Id2'].astype('str').str[0:3]\n",
    "\n",
    "    #creating sum of population for each 3 digit zipcode\n",
    "    df_sum=pd.DataFrame(df_t.groupby('Id2',as_index=False)['Estimate; EMPLOYMENT STATUS - Population 16 years and over'].sum().reset_index())\n",
    "   \n",
    "    #Renaming for calculation\n",
    "    df_sum=df_sum.rename(columns={'Estimate; EMPLOYMENT STATUS - Population 16 years and over':'Total_Pop'})\n",
    "    df_t=df_t.rename(columns={'Estimate; EMPLOYMENT STATUS - Population 16 years and over':'Zip_Pop'})\n",
    "    \n",
    "    df_merge=pd.merge(df_t,df_sum,left_on=['Id2'],\n",
    "                 right_on=['Id2'],how='left')\n",
    "    \n",
    "    #calculating population weight and aggregating at each 3 digit zipcode to validate\n",
    "    df_merge['Pop_wt']=df_merge['Zip_Pop']/df_merge['Total_Pop']\n",
    "    \n",
    "    df_merge['zip_code']=df_merge['Id2'].astype('int').apply(lambda x:format(x,'03d'))\n",
    "    \n",
    "    #Imputing missing values with median values\n",
    "    for col in list_eco:\n",
    "        if col == 'Estimate; EMPLOYMENT STATUS - Population 16 years and over':\n",
    "            df_merge['Zip_Pop'].fillna(df_merge['Zip_Pop'].median(),inplace=True)\n",
    "        else:\n",
    "            df_merge[col].fillna(df_merge[col].median(),inplace=True)\n",
    "    \n",
    "    #Removing NA's if there are still any\n",
    "    df_merge=df_merge.dropna(axis=0)\n",
    "    \n",
    "    print('Total unique zip codes are-->',df_merge['zip_code'].nunique())\n",
    "    \n",
    "    # calculating population weighted values\n",
    "    for col in list_eco:\n",
    "        if col == 'Estimate; EMPLOYMENT STATUS - Population 16 years and over':\n",
    "            continue\n",
    "        else:\n",
    "            df_merge[col]=df_merge[col].astype('float')\n",
    "            df_merge[col]=df_merge[col]*df_merge['Pop_wt']\n",
    "    \n",
    "    #Creating the final aggregated dataset, grouped by first three digit zipcodes\n",
    "    df_final=df_merge.groupby('zip_code').sum().reset_index()\n",
    "    \n",
    "    print(\"Cleaning process for economic metrics is completed \")\n",
    "    \n",
    "    return df_final"
   ]
  },
  {
   "cell_type": "markdown",
   "metadata": {},
   "source": [
    "##### 5. Cleaning Percentage and Date variables"
   ]
  },
  {
   "cell_type": "code",
   "execution_count": 7,
   "metadata": {},
   "outputs": [],
   "source": [
    "def clean_perc(x):\n",
    "    if pd.isnull(x):\n",
    "        return np.nan\n",
    "    else:\n",
    "        return float(x.strip()[:-1])\n",
    "\n",
    "def clean_date(x):\n",
    "    if pd.isnull(x):\n",
    "        return None\n",
    "    else:\n",
    "        return datetime.datetime.strptime( x, \"%b-%Y\").date()"
   ]
  },
  {
   "cell_type": "markdown",
   "metadata": {},
   "source": [
    "##### 6. Cleaning economic metrics file"
   ]
  },
  {
   "cell_type": "code",
   "execution_count": 8,
   "metadata": {},
   "outputs": [],
   "source": [
    "def clean_eco_file(df):\n",
    "    df.replace(\"-\",np.nan,inplace=True)\n",
    "    df.replace('N',np.nan,inplace=True)\n",
    "    df.replace(to_replace=\"250,000+\",value=\"250000\",inplace=True )\n",
    "    df.replace(to_replace=\"2,500-\",value=\"2500\",inplace=True )\n",
    "    df.astype('float').fillna(0,inplace=True)\n",
    "    print(\"Special characters are removed from the file\")\n",
    "    return df"
   ]
  },
  {
   "cell_type": "markdown",
   "metadata": {},
   "source": [
    "##### 7. Cleaning loan statistics file"
   ]
  },
  {
   "cell_type": "code",
   "execution_count": 9,
   "metadata": {},
   "outputs": [],
   "source": [
    "def clean_df(df):\n",
    "\n",
    "    df['verification_status'].iloc[np.where(df['verification_status']=='Source Verified')]='Verified'\n",
    "    df['term'].iloc[np.where(df['term']==' 36 months')]='36months'\n",
    "    df['term'].iloc[np.where(df['term']==' 60 months')]='60months'\n",
    "    df['home_ownership'].iloc[np.where(df['home_ownership']=='ANY')]='MORTGAGE'\n",
    "    for val in value:\n",
    "        df['purpose'][df['purpose']== val]='other'\n",
    "        \n",
    "    dict={\n",
    "    '< 1 year':1,\n",
    "    '1 year': 2,\n",
    "    '2 years':3,\n",
    "    '3 years':4,\n",
    "    '4 years':5,\n",
    "    '5 years':6,\n",
    "    '6 years':7,\n",
    "    '7 years':8,\n",
    "    '8 years':9,\n",
    "    '9 years':10,\n",
    "    '10+ years':11\n",
    "    }\n",
    "    df['emp_length']=df['emp_length'].map(dict)\n",
    "    df['emp_length']=df['emp_length'].astype('category',ordered=True)\n",
    "    \n",
    "    #creating categories and floats\n",
    "    for col in cat_cols:\n",
    "        if col=='emp_length':\n",
    "            df[col]=df[col].astype('category',ordered=True)\n",
    "        else:\n",
    "            df[col]=df[col].astype('category',ordered=False)\n",
    "\n",
    "    #Dropping nulls\n",
    "    df.dropna(axis=0,inplace=True)\n",
    "    \n",
    "    df_dum= pd.DataFrame(pd.get_dummies(df, columns=category, prefix_sep = \"::\", drop_first = True))\n",
    "    return df_dum"
   ]
  },
  {
   "cell_type": "markdown",
   "metadata": {},
   "source": [
    "##### 6. Defining feature engineering and merging"
   ]
  },
  {
   "cell_type": "code",
   "execution_count": 10,
   "metadata": {},
   "outputs": [],
   "source": [
    "def feature_eng(final_data):\n",
    "    final_data[\"outcome\"] = final_data.loan_status.isin([\"Charged Off\", \"Default\"])\n",
    "    print('outcome is created')\n",
    "    final_data['cr_hist'] = (final_data.issue_d - final_data.earliest_cr_line) / np.timedelta64(1, 'M')\n",
    "    continuous_features.append('cr_hist')\n",
    "    print('credit history is created')\n",
    "    final_data['NMRA']=final_data['dti']*(final_data['annual_inc']/12)+ final_data['installment']\n",
    "    final_data['New_dti']=final_data['NMRA']/(final_data['annual_inc']/12)\n",
    "    final_data.drop('NMRA',axis=1,inplace=True)\n",
    "    print('New DTI is created')\n",
    "    cols=['revol_bal']\n",
    "    for col in cols:\n",
    "        final_data[str(col)+\"_wrt_loanamnt\"]=final_data[col]/final_data['funded_amnt']\n",
    "    list_st=['CA','NY','TX','FL','IL','NJ','PA','GA','OH','VA']      \n",
    "    for st in list_st:\n",
    "        final_data['state_'+st]=final_data['addr_state'].apply(lambda x: 1 if x == st else 0)\n",
    "    state_cols=['state_CA','state_NY','state_TX','state_FL','state_IL','state_NJ','state_PA','state_GA','state_OH','state_VA']\n",
    "    for st in state_cols:\n",
    "        final_data[st]=final_data[st].astype('category',ordered=False)\n",
    "    print('Top states are created is created')\n",
    "    #change in fico\n",
    "    final_data['change_in_fico'] = np.nan\n",
    "    final_data['change_in_fico']  = final_data['fico_range_high']/final_data['fico_range_low']\n",
    "    print('Change in Fico score is created')\n",
    "    #making 3 digit zip_code\n",
    "    final_data['zip_code']=final_data['zip_code'].str.strip('x').astype('int').apply(lambda x:format(x,'03d'))\n",
    "    \n",
    "    final_data = final_data.sort_values(by='zip_code')\n",
    "    df_final.sort_values(by='zip_code',inplace=True)\n",
    "    #final_data.to_csv('LendingClub_Target.csv',index=False)\n",
    "    #df_eco_sel.to_csv('Socio_economic.csv',index=False)\n",
    "    df_merge=pd.merge(final_data,df_final,on='zip_code',how = 'inner')\n",
    "    print('Merging completed')\n",
    "    \n",
    "    print('All processess are completed')\n",
    "    \n",
    "    return df_merge"
   ]
  },
  {
   "cell_type": "markdown",
   "metadata": {},
   "source": [
    "### Features "
   ]
  },
  {
   "cell_type": "code",
   "execution_count": 11,
   "metadata": {},
   "outputs": [],
   "source": [
    "# Identify the columns to use\n",
    "cols_to_pick = ['id','loan_amnt','funded_amnt','term','int_rate',\n",
    "                 'installment','grade','emp_length', 'home_ownership',\n",
    "                 'annual_inc','verification_status','issue_d',\n",
    "                 'loan_status','purpose','dti', 'delinq_2yrs',\n",
    "                 'earliest_cr_line','open_acc','pub_rec', 'fico_range_high',\n",
    "                 'fico_range_low', 'revol_bal','revol_util', 'total_pymnt',\n",
    "                                                    'last_pymnt_d', 'recoveries','addr_state','zip_code']\n",
    "\n",
    "# Identify the type of each of these column\n",
    "float_cols = ['loan_amnt', 'funded_amnt', 'installment', 'annual_inc',\n",
    "                     'dti', 'revol_bal', 'delinq_2yrs', 'open_acc', 'pub_rec',\n",
    "                                'fico_range_high', 'fico_range_low', 'total_pymnt', 'recoveries']\n",
    "cat_cols = ['term', 'grade', 'emp_length', 'home_ownership',\n",
    "                    'verification_status', 'loan_status', 'purpose']\n",
    "perc_cols = ['int_rate', 'revol_util']\n",
    "date_cols = ['issue_d', 'earliest_cr_line', 'last_pymnt_d']\n",
    "geo_cols = ['addr_state','zip_code']\n",
    "\n",
    "# All categorical columns other than \"loan_status\" will be used as discrete features\n",
    "discrete_features = list(set(cat_cols) - set([\"loan_status\"]))\n",
    "\n",
    "# All numeric columns will be used as continuous features\n",
    "continuous_features = list(float_cols + perc_cols)"
   ]
  },
  {
   "cell_type": "markdown",
   "metadata": {},
   "source": [
    "### Reading Files"
   ]
  },
  {
   "cell_type": "code",
   "execution_count": 14,
   "metadata": {},
   "outputs": [
    {
     "name": "stdout",
     "output_type": "stream",
     "text": [
      "Directory D:/LendingClubData2016/ has 1 files:\n",
      "    Reading file LoanStats_securev1_2016Q1.csv\n",
      "        Found 2 invalid rows which were removed\n"
     ]
    }
   ],
   "source": [
    "files_2015 = ingest_files(dir_2015)"
   ]
  },
  {
   "cell_type": "code",
   "execution_count": 15,
   "metadata": {},
   "outputs": [
    {
     "name": "stdout",
     "output_type": "stream",
     "text": [
      "Starting with 133887 rows\n"
     ]
    }
   ],
   "source": [
    "data_2015 = pd.concat(files_2015.values()).reset_index(drop = True)\n",
    "data_2015=data_2015.sort_values(by='id')\n",
    "\n",
    "# Keep only the columns of interest\n",
    "final_data = data_2015[cols_to_pick].copy()\n",
    "\n",
    "print(\"Starting with \" + str(len(final_data)) + \" rows\")"
   ]
  },
  {
   "cell_type": "code",
   "execution_count": 16,
   "metadata": {},
   "outputs": [],
   "source": [
    "for i in float_cols:\n",
    "    final_data[i] = final_data[i].astype(float)\n",
    "    \n",
    "for i in perc_cols:\n",
    "    final_data[i] = final_data[i].apply( clean_perc )\n",
    "\n",
    "for i in date_cols:\n",
    "    final_data[i] = final_data[i].apply( clean_date )\n",
    "    \n",
    "for i in cat_cols:\n",
    "    final_data.loc[final_data[i].isnull(), i] = None"
   ]
  },
  {
   "cell_type": "code",
   "execution_count": 17,
   "metadata": {},
   "outputs": [
    {
     "name": "stdout",
     "output_type": "stream",
     "text": [
      "Removed 492 rows\n"
     ]
    }
   ],
   "source": [
    "# Remove all rows for loans that were paid back on the days\n",
    "# they were issued\n",
    "final_data['loan_length'] = (final_data.last_pymnt_d - final_data.issue_d) / np.timedelta64(1, 'M')\n",
    "n_rows = len(final_data)\n",
    "final_data = final_data[final_data.loan_length != 0]\n",
    "print(\"Removed \" + str(n_rows - len(final_data)) + \" rows\")"
   ]
  },
  {
   "cell_type": "markdown",
   "metadata": {},
   "source": [
    "### Visualizing Columns"
   ]
  },
  {
   "cell_type": "code",
   "execution_count": 18,
   "metadata": {},
   "outputs": [],
   "source": [
    "def visualize_columns():\n",
    "    ret_cols=['return']\n",
    "    # FLoat columns\n",
    "    for i in float_cols + perc_cols + ret_cols:\n",
    "        seaborn.boxplot(final_data[i])\n",
    "\n",
    "        # Print the three highest values\n",
    "        highest_vals = sorted(final_data[i], reverse=True)[:3]\n",
    "        smallest_val = min(final_data[i])\n",
    "        plt.text(smallest_val, -0.3, highest_vals[0])\n",
    "        plt.text(smallest_val, -0.2, highest_vals[1])\n",
    "        plt.text(smallest_val, -0.1, highest_vals[2])\n",
    "\n",
    "        plt.show()\n",
    "        \n",
    "    # Categorical columns \n",
    "    for i in cat_cols:\n",
    "        print(i)\n",
    "        print(str(len(set(final_data[i]))) + \" distinct values\")\n",
    "        print(final_data[i].value_counts())\n",
    "        print(\"\")\n",
    "        print(\"\")\n",
    "    \n",
    "    # Date columns\n",
    "    for i in date_cols:\n",
    "        final_data[final_data[i].isnull() == False][i].apply(lambda x : str(x.year) +\n",
    "                                                \"-\" + str(x.month)).value_counts(ascending = True).plot()\n",
    "        plt.title(i + \" (\" + str(final_data[i].isnull().sum()) + \" null values)\")\n",
    "        plt.show()"
   ]
  },
  {
   "cell_type": "code",
   "execution_count": 19,
   "metadata": {},
   "outputs": [],
   "source": [
    "final_data['return'] = ret_method_3(5*12, 0.0024) #3% "
   ]
  },
  {
   "cell_type": "code",
   "execution_count": 28,
   "metadata": {
    "scrolled": true
   },
   "outputs": [
    {
     "data": {
      "image/png": "[encoded data removed]",
      "text/plain": [
       "<Figure size 432x288 with 1 Axes>"
      ]
     },
     "metadata": {
      "needs_background": "light"
     },
     "output_type": "display_data"
    },
    {
     "data": {
      "image/png": "[encoded data removed]",
      "text/plain": [
       "<Figure size 432x288 with 1 Axes>"
      ]
     },
     "metadata": {
      "needs_background": "light"
     },
     "output_type": "display_data"
    },
    {
     "data": {
      "image/png": "[encoded data removed]",
      "text/plain": [
       "<Figure size 432x288 with 1 Axes>"
      ]
     },
     "metadata": {
      "needs_background": "light"
     },
     "output_type": "display_data"
    },
    {
     "data": {
      "image/png": "[encoded data removed]",
      "text/plain": [
       "<Figure size 432x288 with 1 Axes>"
      ]
     },
     "metadata": {
      "needs_background": "light"
     },
     "output_type": "display_data"
    },
    {
     "data": {
      "image/png": "[encoded data removed]",
      "text/plain": [
       "<Figure size 432x288 with 1 Axes>"
      ]
     },
     "metadata": {
      "needs_background": "light"
     },
     "output_type": "display_data"
    },
    {
     "data": {
      "image/png": "[encoded data removed]",
      "text/plain": [
       "<Figure size 432x288 with 1 Axes>"
      ]
     },
     "metadata": {
      "needs_background": "light"
     },
     "output_type": "display_data"
    },
    {
     "data": {
      "image/png": "[encoded data removed]",
      "text/plain": [
       "<Figure size 432x288 with 1 Axes>"
      ]
     },
     "metadata": {
      "needs_background": "light"
     },
     "output_type": "display_data"
    },
    {
     "data": {
      "image/png": "[encoded data removed]",
      "text/plain": [
       "<Figure size 432x288 with 1 Axes>"
      ]
     },
     "metadata": {
      "needs_background": "light"
     },
     "output_type": "display_data"
    },
    {
     "data": {
      "image/png": "[encoded data removed]",
      "text/plain": [
       "<Figure size 432x288 with 1 Axes>"
      ]
     },
     "metadata": {
      "needs_background": "light"
     },
     "output_type": "display_data"
    },
    {
     "data": {
      "image/png": "[encoded data removed]",
      "text/plain": [
       "<Figure size 432x288 with 1 Axes>"
      ]
     },
     "metadata": {
      "needs_background": "light"
     },
     "output_type": "display_data"
    },
    {
     "data": {
      "image/png": "[encoded data removed]",
      "text/plain": [
       "<Figure size 432x288 with 1 Axes>"
      ]
     },
     "metadata": {
      "needs_background": "light"
     },
     "output_type": "display_data"
    },
    {
     "data": {
      "image/png": "[encoded data removed]",
      "text/plain": [
       "<Figure size 432x288 with 1 Axes>"
      ]
     },
     "metadata": {
      "needs_background": "light"
     },
     "output_type": "display_data"
    },
    {
     "data": {
      "image/png": "[encoded data removed]",
      "text/plain": [
       "<Figure size 432x288 with 1 Axes>"
      ]
     },
     "metadata": {
      "needs_background": "light"
     },
     "output_type": "display_data"
    },
    {
     "data": {
      "image/png": "[encoded data removed]",
      "text/plain": [
       "<Figure size 432x288 with 1 Axes>"
      ]
     },
     "metadata": {
      "needs_background": "light"
     },
     "output_type": "display_data"
    },
    {
     "data": {
      "image/png": "[encoded data removed]",
      "text/plain": [
       "<Figure size 432x288 with 1 Axes>"
      ]
     },
     "metadata": {
      "needs_background": "light"
     },
     "output_type": "display_data"
    },
    {
     "data": {
      "image/png": "[encoded data removed]",
      "text/plain": [
       "<Figure size 432x288 with 1 Axes>"
      ]
     },
     "metadata": {
      "needs_background": "light"
     },
     "output_type": "display_data"
    },
    {
     "name": "stdout",
     "output_type": "stream",
     "text": [
      "term\n",
      "2 distinct values\n",
      " 36 months    282477\n",
      " 60 months    137525\n",
      "Name: term, dtype: int64\n",
      "\n",
      "\n",
      "grade\n",
      "7 distinct values\n",
      "C    120250\n",
      "B    117346\n",
      "A     73219\n",
      "D     62458\n",
      "E     34824\n",
      "F      9761\n",
      "G      2144\n",
      "Name: grade, dtype: int64\n",
      "\n",
      "\n",
      "emp_length\n",
      "12 distinct values\n",
      "10+ years    141174\n",
      "2 years       37408\n",
      "< 1 year      34246\n",
      "3 years       33328\n",
      "1 year        27407\n",
      "5 years       24870\n",
      "4 years       24447\n",
      "8 years       21494\n",
      "7 years       18366\n",
      "6 years       16799\n",
      "9 years       16716\n",
      "Name: emp_length, dtype: int64\n",
      "\n",
      "\n",
      "home_ownership\n",
      "4 distinct values\n",
      "MORTGAGE    207178\n",
      "RENT        167217\n",
      "OWN          45605\n",
      "ANY              2\n",
      "Name: home_ownership, dtype: int64\n",
      "\n",
      "\n",
      "verification_status\n",
      "3 distinct values\n",
      "Source Verified    184259\n",
      "Verified           122695\n",
      "Not Verified       113048\n",
      "Name: verification_status, dtype: int64\n",
      "\n",
      "\n",
      "loan_status\n",
      "7 distinct values\n",
      "Fully Paid            303530\n",
      "Charged Off            77093\n",
      "Current                37303\n",
      "Late (31-120 days)      1132\n",
      "In Grace Period          606\n",
      "Late (16-30 days)        272\n",
      "Default                   66\n",
      "Name: loan_status, dtype: int64\n",
      "\n",
      "\n",
      "purpose\n",
      "14 distinct values\n",
      "debt_consolidation    249417\n",
      "credit_card           101831\n",
      "home_improvement       25219\n",
      "other                  19122\n",
      "major_purchase          7408\n",
      "medical                 3925\n",
      "car                     3434\n",
      "small_business          3350\n",
      "moving                  2404\n",
      "vacation                2243\n",
      "house                   1420\n",
      "renewable_energy         224\n",
      "wedding                    4\n",
      "educational                1\n",
      "Name: purpose, dtype: int64\n",
      "\n",
      "\n"
     ]
    },
    {
     "data": {
      "image/png": "[encoded data removed]",
      "text/plain": [
       "<Figure size 432x288 with 1 Axes>"
      ]
     },
     "metadata": {
      "needs_background": "light"
     },
     "output_type": "display_data"
    },
    {
     "data": {
      "image/png": "[encoded data removed]",
      "text/plain": [
       "<Figure size 432x288 with 1 Axes>"
      ]
     },
     "metadata": {
      "needs_background": "light"
     },
     "output_type": "display_data"
    },
    {
     "data": {
      "image/png": "[encoded data removed]",
      "text/plain": [
       "<Figure size 432x288 with 1 Axes>"
      ]
     },
     "metadata": {
      "needs_background": "light"
     },
     "output_type": "display_data"
    }
   ],
   "source": [
    "visualize_columns()"
   ]
  },
  {
   "cell_type": "markdown",
   "metadata": {},
   "source": [
    "### Cleaning"
   ]
  },
  {
   "cell_type": "markdown",
   "metadata": {},
   "source": [
    "##### 1. Removing outliers"
   ]
  },
  {
   "cell_type": "code",
   "execution_count": 20,
   "metadata": {},
   "outputs": [
    {
     "name": "stdout",
     "output_type": "stream",
     "text": [
      "Removed 73 rows\n"
     ]
    }
   ],
   "source": [
    "n_rows = len(final_data)\n",
    "final_data = final_data[final_data.annual_inc < 9000000]\n",
    "final_data = final_data[final_data.revol_util < 170]\n",
    "print(\"Removed \" + str(n_rows - len(final_data)) + \" rows\")"
   ]
  },
  {
   "cell_type": "markdown",
   "metadata": {},
   "source": [
    "##### 2. Removing non Charged Off, Fully Paid or Default Loans"
   ]
  },
  {
   "cell_type": "code",
   "execution_count": 21,
   "metadata": {},
   "outputs": [
    {
     "name": "stdout",
     "output_type": "stream",
     "text": [
      "Removed 13897 rows\n",
      "Remaining 119425  rows\n"
     ]
    }
   ],
   "source": [
    "n_rows = len(final_data)\n",
    "final_data = final_data[final_data.loan_status.isin(['Fully Paid','Charged Off','Default'])]\n",
    "print(\"Removed \" + str(n_rows - len(final_data)) + \" rows\")\n",
    "print(\"Remaining\",final_data.shape[0],\" rows\")"
   ]
  },
  {
   "cell_type": "markdown",
   "metadata": {},
   "source": [
    "##### 3. Removing null values"
   ]
  },
  {
   "cell_type": "code",
   "execution_count": 22,
   "metadata": {},
   "outputs": [
    {
     "name": "stdout",
     "output_type": "stream",
     "text": [
      "Removed 164 rows\n"
     ]
    }
   ],
   "source": [
    "required_cols = set(cols_to_pick) - set(cat_cols) - set([\"id\"])\n",
    "required_cols.add(\"grade\")\n",
    "n_rows = len(final_data)\n",
    "final_data.dropna(subset = required_cols ,inplace=True)\n",
    "print(\"Removed \" + str(n_rows - len(final_data)) + \" rows\")"
   ]
  },
  {
   "cell_type": "markdown",
   "metadata": {},
   "source": [
    "##### 4. Percentage of Loans by Grade"
   ]
  },
  {
   "cell_type": "code",
   "execution_count": 23,
   "metadata": {},
   "outputs": [
    {
     "data": {
      "text/html": [
       "<div>\n",
       "<style scoped>\n",
       "    .dataframe tbody tr th:only-of-type {\n",
       "        vertical-align: middle;\n",
       "    }\n",
       "\n",
       "    .dataframe tbody tr th {\n",
       "        vertical-align: top;\n",
       "    }\n",
       "\n",
       "    .dataframe thead th {\n",
       "        text-align: right;\n",
       "    }\n",
       "</style>\n",
       "<table border=\"1\" class=\"dataframe\">\n",
       "  <thead>\n",
       "    <tr style=\"text-align: right;\">\n",
       "      <th></th>\n",
       "      <th>grade</th>\n",
       "      <th>default</th>\n",
       "      <th>int_rate</th>\n",
       "      <th>return</th>\n",
       "    </tr>\n",
       "  </thead>\n",
       "  <tbody>\n",
       "    <tr>\n",
       "      <th>A</th>\n",
       "      <td>21.369098</td>\n",
       "      <td>5.654306</td>\n",
       "      <td>6.655307</td>\n",
       "      <td>3.722785</td>\n",
       "    </tr>\n",
       "    <tr>\n",
       "      <th>B</th>\n",
       "      <td>30.704086</td>\n",
       "      <td>13.307663</td>\n",
       "      <td>9.967616</td>\n",
       "      <td>3.767658</td>\n",
       "    </tr>\n",
       "    <tr>\n",
       "      <th>C</th>\n",
       "      <td>26.597966</td>\n",
       "      <td>23.429274</td>\n",
       "      <td>13.449915</td>\n",
       "      <td>3.245959</td>\n",
       "    </tr>\n",
       "    <tr>\n",
       "      <th>D</th>\n",
       "      <td>11.760760</td>\n",
       "      <td>32.938828</td>\n",
       "      <td>17.593977</td>\n",
       "      <td>2.655276</td>\n",
       "    </tr>\n",
       "    <tr>\n",
       "      <th>E</th>\n",
       "      <td>6.527700</td>\n",
       "      <td>42.723186</td>\n",
       "      <td>20.736270</td>\n",
       "      <td>1.484785</td>\n",
       "    </tr>\n",
       "    <tr>\n",
       "      <th>F</th>\n",
       "      <td>2.417387</td>\n",
       "      <td>51.612903</td>\n",
       "      <td>24.316566</td>\n",
       "      <td>0.314104</td>\n",
       "    </tr>\n",
       "    <tr>\n",
       "      <th>G</th>\n",
       "      <td>0.623003</td>\n",
       "      <td>54.912517</td>\n",
       "      <td>28.000686</td>\n",
       "      <td>-0.389301</td>\n",
       "    </tr>\n",
       "  </tbody>\n",
       "</table>\n",
       "</div>"
      ],
      "text/plain": [
       "       grade    default   int_rate    return\n",
       "A  21.369098   5.654306   6.655307  3.722785\n",
       "B  30.704086  13.307663   9.967616  3.767658\n",
       "C  26.597966  23.429274  13.449915  3.245959\n",
       "D  11.760760  32.938828  17.593977  2.655276\n",
       "E   6.527700  42.723186  20.736270  1.484785\n",
       "F   2.417387  51.612903  24.316566  0.314104\n",
       "G   0.623003  54.912517  28.000686 -0.389301"
      ]
     },
     "execution_count": 23,
     "metadata": {},
     "output_type": "execute_result"
    }
   ],
   "source": [
    "perc_by_grade = (final_data.grade.value_counts()*100/len(final_data)).sort_index()\n",
    "default_by_grade = final_data.groupby(\"grade\").apply(lambda x : (x.loan_status != \"Fully Paid\").sum()*100/len(x) )\n",
    "ret = final_data.groupby(\"grade\").apply(lambda x : np.mean(x['return']*100 ))\n",
    "int_rate_by_grade = final_data.groupby(\"grade\").apply(lambda x : np.mean(x.int_rate))\n",
    "combined = pd.DataFrame(perc_by_grade)\n",
    "combined['default'] = default_by_grade\n",
    "combined['int_rate'] = int_rate_by_grade\n",
    "combined['return'] = ret\n",
    "combined"
   ]
  },
  {
   "cell_type": "markdown",
   "metadata": {},
   "source": [
    "##### 5. Removing leakage variables"
   ]
  },
  {
   "cell_type": "code",
   "execution_count": 24,
   "metadata": {},
   "outputs": [],
   "source": [
    "continuous_features = [i for i in continuous_features if i not in [\"total_pymnt\", \"recoveries\"]]"
   ]
  },
  {
   "cell_type": "code",
   "execution_count": 25,
   "metadata": {},
   "outputs": [
    {
     "data": {
      "text/plain": [
       "(119261, 30)"
      ]
     },
     "execution_count": 25,
     "metadata": {},
     "output_type": "execute_result"
    }
   ],
   "source": [
    "final_data.shape"
   ]
  },
  {
   "cell_type": "markdown",
   "metadata": {},
   "source": [
    "### SOCIO-ECONOMIC DATA"
   ]
  },
  {
   "cell_type": "code",
   "execution_count": 140,
   "metadata": {},
   "outputs": [],
   "source": [
    "os.chdir(r\"D:\\AmericanFactFinder\")\n",
    "df_eco=pd.read_csv('ACS_17_5YR_DP03_with_ann.csv',skiprows=1)"
   ]
  },
  {
   "cell_type": "code",
   "execution_count": 164,
   "metadata": {},
   "outputs": [],
   "source": [
    "list_eco=['Id2',\n",
    "'Estimate; EMPLOYMENT STATUS - Population 16 years and over',\n",
    "'Estimate; EMPLOYMENT STATUS - Population 16 years and over - In labor force - Civilian labor force',\n",
    "'Percent; EMPLOYMENT STATUS - Civilian labor force - Unemployment Rate',\n",
    "'Estimate; COMMUTING TO WORK - Workers 16 years and over',\n",
    "'Estimate; COMMUTING TO WORK - Workers 16 years and over - Car, truck, or van -- drove alone',\n",
    "'Estimate; COMMUTING TO WORK - Workers 16 years and over - Car, truck, or van -- carpooled',\n",
    "'Estimate; COMMUTING TO WORK - Workers 16 years and over - Public transportation (excluding taxicab)',\n",
    "'Estimate; COMMUTING TO WORK - Workers 16 years and over - Walked',\n",
    "'Estimate; COMMUTING TO WORK - Workers 16 years and over - Other means',\n",
    "'Estimate; COMMUTING TO WORK - Workers 16 years and over - Worked at home',\n",
    "'Estimate; COMMUTING TO WORK - Mean travel time to work (minutes)',\n",
    "'Estimate; OCCUPATION - Civilian employed population 16 years and over',\n",
    "'Estimate; OCCUPATION - Civilian employed population 16 years and over - Management, business, science, and arts occupations',\n",
    "'Estimate; OCCUPATION - Civilian employed population 16 years and over - Service occupations',\n",
    "'Estimate; OCCUPATION - Civilian employed population 16 years and over - Sales and office occupations',\n",
    "'Estimate; OCCUPATION - Civilian employed population 16 years and over - Natural resources, construction, and maintenance occupations',\n",
    "'Estimate; OCCUPATION - Civilian employed population 16 years and over - Production, transportation, and material moving occupations',\n",
    "'Estimate; INDUSTRY - Civilian employed population 16 years and over',\n",
    "'Estimate; INDUSTRY - Civilian employed population 16 years and over - Agriculture, forestry, fishing and hunting, and mining',\n",
    "'Estimate; INDUSTRY - Civilian employed population 16 years and over - Construction',\n",
    "'Estimate; INDUSTRY - Civilian employed population 16 years and over - Manufacturing',\n",
    "'Estimate; INDUSTRY - Civilian employed population 16 years and over - Wholesale trade',\n",
    "'Estimate; INDUSTRY - Civilian employed population 16 years and over - Retail trade',\n",
    "'Estimate; INDUSTRY - Civilian employed population 16 years and over - Transportation and warehousing, and utilities',\n",
    "'Estimate; INDUSTRY - Civilian employed population 16 years and over - Information',\n",
    "'Estimate; INDUSTRY - Civilian employed population 16 years and over - Finance and insurance, and real estate and rental and leasing',\n",
    "'Estimate; INDUSTRY - Civilian employed population 16 years and over - Professional, scientific, and management, and administrative and waste management services',\n",
    "'Estimate; INDUSTRY - Civilian employed population 16 years and over - Educational services, and health care and social assistance',\n",
    "'Estimate; INDUSTRY - Civilian employed population 16 years and over - Arts, entertainment, and recreation, and accommodation and food services',\n",
    "'Estimate; INDUSTRY - Civilian employed population 16 years and over - Other services, except public administration',\n",
    "'Estimate; INDUSTRY - Civilian employed population 16 years and over - Public administration',\n",
    "'Estimate; CLASS OF WORKER - Civilian employed population 16 years and over',\n",
    "'Estimate; CLASS OF WORKER - Civilian employed population 16 years and over - Private wage and salary workers',\n",
    "'Estimate; CLASS OF WORKER - Civilian employed population 16 years and over - Government workers',\n",
    "'Estimate; CLASS OF WORKER - Civilian employed population 16 years and over - Self-employed in own not incorporated business workers',\n",
    "'Estimate; CLASS OF WORKER - Civilian employed population 16 years and over - Unpaid family workers',\n",
    "'Estimate; INCOME AND BENEFITS (IN 2017 INFLATION-ADJUSTED DOLLARS) - Total households',\n",
    "'Estimate; INCOME AND BENEFITS (IN 2017 INFLATION-ADJUSTED DOLLARS) - Total households - Less than $10,000',\n",
    "'Estimate; INCOME AND BENEFITS (IN 2017 INFLATION-ADJUSTED DOLLARS) - Total households - $10,000 to $14,999',\n",
    "'Estimate; INCOME AND BENEFITS (IN 2017 INFLATION-ADJUSTED DOLLARS) - Total households - $15,000 to $24,999',\n",
    "'Estimate; INCOME AND BENEFITS (IN 2017 INFLATION-ADJUSTED DOLLARS) - Total households - $25,000 to $34,999',\n",
    "'Estimate; INCOME AND BENEFITS (IN 2017 INFLATION-ADJUSTED DOLLARS) - Total households - $35,000 to $49,999',\n",
    "'Estimate; INCOME AND BENEFITS (IN 2017 INFLATION-ADJUSTED DOLLARS) - Total households - $50,000 to $74,999',\n",
    "'Estimate; INCOME AND BENEFITS (IN 2017 INFLATION-ADJUSTED DOLLARS) - Total households - $75,000 to $99,999',\n",
    "'Estimate; INCOME AND BENEFITS (IN 2017 INFLATION-ADJUSTED DOLLARS) - Total households - $100,000 to $149,999',\n",
    "'Estimate; INCOME AND BENEFITS (IN 2017 INFLATION-ADJUSTED DOLLARS) - Total households - $150,000 to $199,999',\n",
    "'Estimate; INCOME AND BENEFITS (IN 2017 INFLATION-ADJUSTED DOLLARS) - Total households - $200,000 or more',\n",
    "'Estimate; INCOME AND BENEFITS (IN 2017 INFLATION-ADJUSTED DOLLARS) - Families',\n",
    "'Estimate; INCOME AND BENEFITS (IN 2017 INFLATION-ADJUSTED DOLLARS) - Families - Less than $10,000',\n",
    "'Estimate; INCOME AND BENEFITS (IN 2017 INFLATION-ADJUSTED DOLLARS) - Families - $10,000 to $14,999',\n",
    "'Estimate; INCOME AND BENEFITS (IN 2017 INFLATION-ADJUSTED DOLLARS) - Families - $15,000 to $24,999',\n",
    "'Estimate; INCOME AND BENEFITS (IN 2017 INFLATION-ADJUSTED DOLLARS) - Families - $25,000 to $34,999',\n",
    "'Estimate; INCOME AND BENEFITS (IN 2017 INFLATION-ADJUSTED DOLLARS) - Families - $35,000 to $49,999',\n",
    "'Estimate; INCOME AND BENEFITS (IN 2017 INFLATION-ADJUSTED DOLLARS) - Families - $50,000 to $74,999',\n",
    "'Estimate; INCOME AND BENEFITS (IN 2017 INFLATION-ADJUSTED DOLLARS) - Families - $75,000 to $99,999',\n",
    "'Estimate; INCOME AND BENEFITS (IN 2017 INFLATION-ADJUSTED DOLLARS) - Families - $100,000 to $149,999',\n",
    "'Estimate; INCOME AND BENEFITS (IN 2017 INFLATION-ADJUSTED DOLLARS) - Families - $150,000 to $199,999',\n",
    "'Estimate; INCOME AND BENEFITS (IN 2017 INFLATION-ADJUSTED DOLLARS) - Families - $200,000 or more',\n",
    "'Estimate; INCOME AND BENEFITS (IN 2017 INFLATION-ADJUSTED DOLLARS) - Families - Median family income (dollars)',\n",
    "'Estimate; INCOME AND BENEFITS (IN 2017 INFLATION-ADJUSTED DOLLARS) - Families - Mean family income (dollars)',\n",
    "'Estimate; INCOME AND BENEFITS (IN 2017 INFLATION-ADJUSTED DOLLARS) - Per capita income (dollars)',\n",
    "'Estimate; HEALTH INSURANCE COVERAGE - Civilian noninstitutionalized population',\n",
    "'Estimate; HEALTH INSURANCE COVERAGE - Civilian noninstitutionalized population - With health insurance coverage',\n",
    "'Estimate; HEALTH INSURANCE COVERAGE - Civilian noninstitutionalized population - With health insurance coverage - With private health insurance',\n",
    "'Estimate; HEALTH INSURANCE COVERAGE - Civilian noninstitutionalized population - With health insurance coverage - With public coverage',\n",
    "'Estimate; HEALTH INSURANCE COVERAGE - Civilian noninstitutionalized population - No health insurance coverage',\n",
    "'Percent; PERCENTAGE OF FAMILIES AND PEOPLE WHOSE INCOME IN THE PAST 12 MONTHS IS BELOW THE POVERTY LEVEL - Married couple families',\n",
    "'Percent; PERCENTAGE OF FAMILIES AND PEOPLE WHOSE INCOME IN THE PAST 12 MONTHS IS BELOW THE POVERTY LEVEL - Families with female householder, no husband present',\n",
    "'Percent; PERCENTAGE OF FAMILIES AND PEOPLE WHOSE INCOME IN THE PAST 12 MONTHS IS BELOW THE POVERTY LEVEL - All people - 18 years and over - 18 to 64 years',\n",
    "'Percent; PERCENTAGE OF FAMILIES AND PEOPLE WHOSE INCOME IN THE PAST 12 MONTHS IS BELOW THE POVERTY LEVEL - All people - 18 years and over - 65 years and over',\n",
    "'Percent; PERCENTAGE OF FAMILIES AND PEOPLE WHOSE INCOME IN THE PAST 12 MONTHS IS BELOW THE POVERTY LEVEL - People in families']\n",
    "df_eco_sel = df_eco[list_eco]"
   ]
  },
  {
   "cell_type": "markdown",
   "metadata": {},
   "source": [
    "### Remove special characters"
   ]
  },
  {
   "cell_type": "markdown",
   "metadata": {},
   "source": [
    "- N\n",
    "- '-'\n",
    "- +250,000\n",
    "- -2,500"
   ]
  },
  {
   "cell_type": "code",
   "execution_count": 142,
   "metadata": {
    "scrolled": true
   },
   "outputs": [
    {
     "name": "stdout",
     "output_type": "stream",
     "text": [
      "Special characters are removed from the file\n"
     ]
    }
   ],
   "source": [
    "df_eco_clean=clean_eco_file(df_eco_sel)\n"
   ]
  },
  {
   "cell_type": "code",
   "execution_count": 143,
   "metadata": {},
   "outputs": [
    {
     "name": "stderr",
     "output_type": "stream",
     "text": [
      "C:\\Users\\Thatoi\\Downloads\\Software\\Anaconda\\lib\\site-packages\\ipykernel_launcher.py:4: SettingWithCopyWarning: \n",
      "A value is trying to be set on a copy of a slice from a DataFrame.\n",
      "Try using .loc[row_indexer,col_indexer] = value instead\n",
      "\n",
      "See the caveats in the documentation: http://pandas.pydata.org/pandas-docs/stable/indexing.html#indexing-view-versus-copy\n",
      "  after removing the cwd from sys.path.\n",
      "C:\\Users\\Thatoi\\Downloads\\Software\\Anaconda\\lib\\site-packages\\ipykernel_launcher.py:7: SettingWithCopyWarning: \n",
      "A value is trying to be set on a copy of a slice from a DataFrame.\n",
      "Try using .loc[row_indexer,col_indexer] = value instead\n",
      "\n",
      "See the caveats in the documentation: http://pandas.pydata.org/pandas-docs/stable/indexing.html#indexing-view-versus-copy\n",
      "  import sys\n"
     ]
    },
    {
     "name": "stdout",
     "output_type": "stream",
     "text": [
      "Total unique zip codes are--> 889\n",
      "Cleaning process for economic metrics is completed \n"
     ]
    }
   ],
   "source": [
    "df_final = create_eco_file(df_eco_clean)"
   ]
  },
  {
   "cell_type": "code",
   "execution_count": 144,
   "metadata": {},
   "outputs": [
    {
     "data": {
      "text/html": [
       "<div>\n",
       "<style scoped>\n",
       "    .dataframe tbody tr th:only-of-type {\n",
       "        vertical-align: middle;\n",
       "    }\n",
       "\n",
       "    .dataframe tbody tr th {\n",
       "        vertical-align: top;\n",
       "    }\n",
       "\n",
       "    .dataframe thead th {\n",
       "        text-align: right;\n",
       "    }\n",
       "</style>\n",
       "<table border=\"1\" class=\"dataframe\">\n",
       "  <thead>\n",
       "    <tr style=\"text-align: right;\">\n",
       "      <th></th>\n",
       "      <th>zip_code</th>\n",
       "      <th>Id2</th>\n",
       "      <th>Zip_Pop</th>\n",
       "      <th>Estimate; EMPLOYMENT STATUS - Population 16 years and over - In labor force - Civilian labor force</th>\n",
       "      <th>Percent; EMPLOYMENT STATUS - Civilian labor force - Unemployment Rate</th>\n",
       "      <th>Estimate; COMMUTING TO WORK - Workers 16 years and over</th>\n",
       "      <th>Estimate; COMMUTING TO WORK - Workers 16 years and over - Car, truck, or van -- drove alone</th>\n",
       "      <th>Estimate; COMMUTING TO WORK - Workers 16 years and over - Car, truck, or van -- carpooled</th>\n",
       "      <th>Estimate; COMMUTING TO WORK - Workers 16 years and over - Public transportation (excluding taxicab)</th>\n",
       "      <th>Estimate; COMMUTING TO WORK - Workers 16 years and over - Walked</th>\n",
       "      <th>...</th>\n",
       "      <th>Estimate; HEALTH INSURANCE COVERAGE - Civilian noninstitutionalized population - With health insurance coverage - With public coverage</th>\n",
       "      <th>Estimate; HEALTH INSURANCE COVERAGE - Civilian noninstitutionalized population - No health insurance coverage</th>\n",
       "      <th>Percent; PERCENTAGE OF FAMILIES AND PEOPLE WHOSE INCOME IN THE PAST 12 MONTHS IS BELOW THE POVERTY LEVEL - Married couple families</th>\n",
       "      <th>Percent; PERCENTAGE OF FAMILIES AND PEOPLE WHOSE INCOME IN THE PAST 12 MONTHS IS BELOW THE POVERTY LEVEL - Families with female householder, no husband present</th>\n",
       "      <th>Percent; PERCENTAGE OF FAMILIES AND PEOPLE WHOSE INCOME IN THE PAST 12 MONTHS IS BELOW THE POVERTY LEVEL - All people - 18 years and over - 18 to 64 years</th>\n",
       "      <th>Percent; PERCENTAGE OF FAMILIES AND PEOPLE WHOSE INCOME IN THE PAST 12 MONTHS IS BELOW THE POVERTY LEVEL - All people - 18 years and over - 65 years and over</th>\n",
       "      <th>Percent; PERCENTAGE OF FAMILIES AND PEOPLE WHOSE INCOME IN THE PAST 12 MONTHS IS BELOW THE POVERTY LEVEL - People in families</th>\n",
       "      <th>index</th>\n",
       "      <th>Total_Pop</th>\n",
       "      <th>Pop_wt</th>\n",
       "    </tr>\n",
       "  </thead>\n",
       "  <tbody>\n",
       "    <tr>\n",
       "      <th>0</th>\n",
       "      <td>006</td>\n",
       "      <td>6.0</td>\n",
       "      <td>927237</td>\n",
       "      <td>11157.142244</td>\n",
       "      <td>20.449049</td>\n",
       "      <td>8729.706927</td>\n",
       "      <td>7480.878945</td>\n",
       "      <td>643.651968</td>\n",
       "      <td>59.234554</td>\n",
       "      <td>290.551824</td>\n",
       "      <td>...</td>\n",
       "      <td>23119.531535</td>\n",
       "      <td>1874.835369</td>\n",
       "      <td>35.839950</td>\n",
       "      <td>65.386543</td>\n",
       "      <td>48.921741</td>\n",
       "      <td>45.726151</td>\n",
       "      <td>48.667460</td>\n",
       "      <td>0</td>\n",
       "      <td>40798428</td>\n",
       "      <td>1.0</td>\n",
       "    </tr>\n",
       "    <tr>\n",
       "      <th>1</th>\n",
       "      <td>007</td>\n",
       "      <td>7.0</td>\n",
       "      <td>1043146</td>\n",
       "      <td>13886.942587</td>\n",
       "      <td>17.805466</td>\n",
       "      <td>10890.846190</td>\n",
       "      <td>9192.100172</td>\n",
       "      <td>886.116438</td>\n",
       "      <td>116.472409</td>\n",
       "      <td>299.532506</td>\n",
       "      <td>...</td>\n",
       "      <td>23902.504924</td>\n",
       "      <td>2233.775617</td>\n",
       "      <td>31.747884</td>\n",
       "      <td>60.537449</td>\n",
       "      <td>44.357128</td>\n",
       "      <td>41.754325</td>\n",
       "      <td>45.056973</td>\n",
       "      <td>46</td>\n",
       "      <td>47984716</td>\n",
       "      <td>1.0</td>\n",
       "    </tr>\n",
       "    <tr>\n",
       "      <th>2</th>\n",
       "      <td>009</td>\n",
       "      <td>9.0</td>\n",
       "      <td>864037</td>\n",
       "      <td>20763.133500</td>\n",
       "      <td>14.377662</td>\n",
       "      <td>17451.718947</td>\n",
       "      <td>13858.656125</td>\n",
       "      <td>1713.325805</td>\n",
       "      <td>600.271596</td>\n",
       "      <td>399.608558</td>\n",
       "      <td>...</td>\n",
       "      <td>23529.369522</td>\n",
       "      <td>3551.488940</td>\n",
       "      <td>19.129695</td>\n",
       "      <td>48.859662</td>\n",
       "      <td>31.900361</td>\n",
       "      <td>31.983353</td>\n",
       "      <td>33.143598</td>\n",
       "      <td>82</td>\n",
       "      <td>35425517</td>\n",
       "      <td>1.0</td>\n",
       "    </tr>\n",
       "    <tr>\n",
       "      <th>3</th>\n",
       "      <td>010</td>\n",
       "      <td>10.0</td>\n",
       "      <td>399799</td>\n",
       "      <td>10894.655757</td>\n",
       "      <td>6.743137</td>\n",
       "      <td>9903.628038</td>\n",
       "      <td>7937.923864</td>\n",
       "      <td>669.111451</td>\n",
       "      <td>212.030173</td>\n",
       "      <td>478.464864</td>\n",
       "      <td>...</td>\n",
       "      <td>8231.062029</td>\n",
       "      <td>563.973269</td>\n",
       "      <td>3.773109</td>\n",
       "      <td>20.536321</td>\n",
       "      <td>14.513681</td>\n",
       "      <td>8.232406</td>\n",
       "      <td>8.138786</td>\n",
       "      <td>189</td>\n",
       "      <td>25187337</td>\n",
       "      <td>1.0</td>\n",
       "    </tr>\n",
       "    <tr>\n",
       "      <th>4</th>\n",
       "      <td>011</td>\n",
       "      <td>11.0</td>\n",
       "      <td>132130</td>\n",
       "      <td>8732.852577</td>\n",
       "      <td>10.666768</td>\n",
       "      <td>7695.162968</td>\n",
       "      <td>5686.427125</td>\n",
       "      <td>864.736426</td>\n",
       "      <td>360.340551</td>\n",
       "      <td>372.600500</td>\n",
       "      <td>...</td>\n",
       "      <td>11351.829055</td>\n",
       "      <td>886.767782</td>\n",
       "      <td>10.921894</td>\n",
       "      <td>37.255091</td>\n",
       "      <td>23.146734</td>\n",
       "      <td>14.909795</td>\n",
       "      <td>24.214696</td>\n",
       "      <td>52</td>\n",
       "      <td>1717690</td>\n",
       "      <td>1.0</td>\n",
       "    </tr>\n",
       "  </tbody>\n",
       "</table>\n",
       "<p>5 rows × 76 columns</p>\n",
       "</div>"
      ],
      "text/plain": [
       "  zip_code   Id2  Zip_Pop  \\\n",
       "0      006   6.0   927237   \n",
       "1      007   7.0  1043146   \n",
       "2      009   9.0   864037   \n",
       "3      010  10.0   399799   \n",
       "4      011  11.0   132130   \n",
       "\n",
       "   Estimate; EMPLOYMENT STATUS - Population 16 years and over - In labor force - Civilian labor force  \\\n",
       "0                                       11157.142244                                                    \n",
       "1                                       13886.942587                                                    \n",
       "2                                       20763.133500                                                    \n",
       "3                                       10894.655757                                                    \n",
       "4                                        8732.852577                                                    \n",
       "\n",
       "   Percent; EMPLOYMENT STATUS - Civilian labor force - Unemployment Rate  \\\n",
       "0                                          20.449049                       \n",
       "1                                          17.805466                       \n",
       "2                                          14.377662                       \n",
       "3                                           6.743137                       \n",
       "4                                          10.666768                       \n",
       "\n",
       "   Estimate; COMMUTING TO WORK - Workers 16 years and over  \\\n",
       "0                                        8729.706927         \n",
       "1                                       10890.846190         \n",
       "2                                       17451.718947         \n",
       "3                                        9903.628038         \n",
       "4                                        7695.162968         \n",
       "\n",
       "   Estimate; COMMUTING TO WORK - Workers 16 years and over - Car, truck, or van -- drove alone  \\\n",
       "0                                        7480.878945                                             \n",
       "1                                        9192.100172                                             \n",
       "2                                       13858.656125                                             \n",
       "3                                        7937.923864                                             \n",
       "4                                        5686.427125                                             \n",
       "\n",
       "   Estimate; COMMUTING TO WORK - Workers 16 years and over - Car, truck, or van -- carpooled  \\\n",
       "0                                         643.651968                                           \n",
       "1                                         886.116438                                           \n",
       "2                                        1713.325805                                           \n",
       "3                                         669.111451                                           \n",
       "4                                         864.736426                                           \n",
       "\n",
       "   Estimate; COMMUTING TO WORK - Workers 16 years and over - Public transportation (excluding taxicab)  \\\n",
       "0                                          59.234554                                                     \n",
       "1                                         116.472409                                                     \n",
       "2                                         600.271596                                                     \n",
       "3                                         212.030173                                                     \n",
       "4                                         360.340551                                                     \n",
       "\n",
       "   Estimate; COMMUTING TO WORK - Workers 16 years and over - Walked  ...  \\\n",
       "0                                         290.551824                 ...   \n",
       "1                                         299.532506                 ...   \n",
       "2                                         399.608558                 ...   \n",
       "3                                         478.464864                 ...   \n",
       "4                                         372.600500                 ...   \n",
       "\n",
       "   Estimate; HEALTH INSURANCE COVERAGE - Civilian noninstitutionalized population - With health insurance coverage - With public coverage  \\\n",
       "0                                       23119.531535                                                                                        \n",
       "1                                       23902.504924                                                                                        \n",
       "2                                       23529.369522                                                                                        \n",
       "3                                        8231.062029                                                                                        \n",
       "4                                       11351.829055                                                                                        \n",
       "\n",
       "   Estimate; HEALTH INSURANCE COVERAGE - Civilian noninstitutionalized population - No health insurance coverage  \\\n",
       "0                                        1874.835369                                                               \n",
       "1                                        2233.775617                                                               \n",
       "2                                        3551.488940                                                               \n",
       "3                                         563.973269                                                               \n",
       "4                                         886.767782                                                               \n",
       "\n",
       "   Percent; PERCENTAGE OF FAMILIES AND PEOPLE WHOSE INCOME IN THE PAST 12 MONTHS IS BELOW THE POVERTY LEVEL - Married couple families  \\\n",
       "0                                          35.839950                                                                                    \n",
       "1                                          31.747884                                                                                    \n",
       "2                                          19.129695                                                                                    \n",
       "3                                           3.773109                                                                                    \n",
       "4                                          10.921894                                                                                    \n",
       "\n",
       "   Percent; PERCENTAGE OF FAMILIES AND PEOPLE WHOSE INCOME IN THE PAST 12 MONTHS IS BELOW THE POVERTY LEVEL - Families with female householder, no husband present  \\\n",
       "0                                          65.386543                                                                                                                 \n",
       "1                                          60.537449                                                                                                                 \n",
       "2                                          48.859662                                                                                                                 \n",
       "3                                          20.536321                                                                                                                 \n",
       "4                                          37.255091                                                                                                                 \n",
       "\n",
       "   Percent; PERCENTAGE OF FAMILIES AND PEOPLE WHOSE INCOME IN THE PAST 12 MONTHS IS BELOW THE POVERTY LEVEL - All people - 18 years and over - 18 to 64 years  \\\n",
       "0                                          48.921741                                                                                                            \n",
       "1                                          44.357128                                                                                                            \n",
       "2                                          31.900361                                                                                                            \n",
       "3                                          14.513681                                                                                                            \n",
       "4                                          23.146734                                                                                                            \n",
       "\n",
       "   Percent; PERCENTAGE OF FAMILIES AND PEOPLE WHOSE INCOME IN THE PAST 12 MONTHS IS BELOW THE POVERTY LEVEL - All people - 18 years and over - 65 years and over  \\\n",
       "0                                          45.726151                                                                                                               \n",
       "1                                          41.754325                                                                                                               \n",
       "2                                          31.983353                                                                                                               \n",
       "3                                           8.232406                                                                                                               \n",
       "4                                          14.909795                                                                                                               \n",
       "\n",
       "   Percent; PERCENTAGE OF FAMILIES AND PEOPLE WHOSE INCOME IN THE PAST 12 MONTHS IS BELOW THE POVERTY LEVEL - People in families  \\\n",
       "0                                          48.667460                                                                               \n",
       "1                                          45.056973                                                                               \n",
       "2                                          33.143598                                                                               \n",
       "3                                           8.138786                                                                               \n",
       "4                                          24.214696                                                                               \n",
       "\n",
       "   index  Total_Pop  Pop_wt  \n",
       "0      0   40798428     1.0  \n",
       "1     46   47984716     1.0  \n",
       "2     82   35425517     1.0  \n",
       "3    189   25187337     1.0  \n",
       "4     52    1717690     1.0  \n",
       "\n",
       "[5 rows x 76 columns]"
      ]
     },
     "execution_count": 144,
     "metadata": {},
     "output_type": "execute_result"
    }
   ],
   "source": [
    "df_final.head()"
   ]
  },
  {
   "cell_type": "markdown",
   "metadata": {},
   "source": [
    "### Feature Engineering & Merging"
   ]
  },
  {
   "cell_type": "code",
   "execution_count": 152,
   "metadata": {},
   "outputs": [
    {
     "name": "stdout",
     "output_type": "stream",
     "text": [
      "outcome is created\n",
      "credit history is created\n",
      "New DTI is created\n"
     ]
    },
    {
     "name": "stderr",
     "output_type": "stream",
     "text": [
      "C:\\Users\\Thatoi\\Downloads\\Software\\Anaconda\\lib\\site-packages\\ipykernel_launcher.py:1: FutureWarning: specifying 'categories' or 'ordered' in .astype() is deprecated; pass a CategoricalDtype instead\n",
      "  \"\"\"Entry point for launching an IPython kernel.\n"
     ]
    },
    {
     "name": "stdout",
     "output_type": "stream",
     "text": [
      "Top states are created is created\n",
      "Change in Fico score is created\n",
      "Merging completed\n",
      "All processess are completed\n"
     ]
    }
   ],
   "source": [
    "df_merge=feature_eng(final_data)"
   ]
  },
  {
   "cell_type": "code",
   "execution_count": 154,
   "metadata": {},
   "outputs": [
    {
     "data": {
      "text/plain": [
       "(380074, 120)"
      ]
     },
     "execution_count": 154,
     "metadata": {},
     "output_type": "execute_result"
    }
   ],
   "source": [
    "df_merge.shape"
   ]
  },
  {
   "cell_type": "markdown",
   "metadata": {},
   "source": [
    "### PCA"
   ]
  },
  {
   "cell_type": "code",
   "execution_count": 168,
   "metadata": {
    "scrolled": true
   },
   "outputs": [],
   "source": [
    "del_columns = ['id','grade','installment','int_rate','issue_d','earliest_cr_line','emp_length', \n",
    "               'return', 'return_lc', 'outcome','term', 'home_ownership','verification_status',\n",
    "              'loan_status', 'purpose', 'total_pymnt', 'last_pymnt_d', 'recoveries', 'addr_state', 'zip_code',\n",
    "       'loan_length','state_CA', 'state_NY', 'state_TX',\n",
    "       'state_FL', 'state_IL', 'state_NJ', 'state_PA', 'state_GA', 'state_OH',\n",
    "       'state_VA']\n",
    "\n",
    "required = set(cols_to_pick) - set(del_columns)\n",
    "\n",
    "to_be_added = ['emp_length', \n",
    "               'return', 'outcome','term', 'home_ownership','verification_status',\n",
    "              'purpose','state_CA', 'state_NY', 'state_TX',\n",
    "       'state_FL', 'state_IL', 'state_NJ', 'state_PA', 'state_GA', 'state_OH',\n",
    "       'state_VA']\n",
    "\n",
    "del_col_eco = ['Id2','Pop_wt']\n",
    "list_eco[0]='Zip_Pop'\n",
    "list_eco.remove('Estimate; EMPLOYMENT STATUS - Population 16 years and over')\n",
    "required_eco = set(list_eco) - set(del_col_eco)\n",
    "\n",
    "final_list_pca=list(list(required)+list(required_eco))\n",
    "\n",
    "pca_data = df_merge[final_list_pca]"
   ]
  },
  {
   "cell_type": "code",
   "execution_count": 169,
   "metadata": {},
   "outputs": [],
   "source": [
    "#to be added to PCA\n",
    "df_add = df_merge[to_be_added]"
   ]
  },
  {
   "cell_type": "code",
   "execution_count": 170,
   "metadata": {},
   "outputs": [
    {
     "name": "stderr",
     "output_type": "stream",
     "text": [
      "C:\\Users\\Thatoi\\Downloads\\Software\\Anaconda\\lib\\site-packages\\ipykernel_launcher.py:3: DataConversionWarning: Data with input dtype int64, float64 were all converted to float64 by the scale function.\n",
      "  This is separate from the ipykernel package so we can avoid doing imports until\n"
     ]
    }
   ],
   "source": [
    "#scaling pca data\n",
    "from sklearn.preprocessing import scale\n",
    "pca_scale= scale(pca_data)"
   ]
  },
  {
   "cell_type": "code",
   "execution_count": 171,
   "metadata": {},
   "outputs": [
    {
     "data": {
      "image/png": "[encoded data removed]",
      "text/plain": [
       "<Figure size 864x432 with 1 Axes>"
      ]
     },
     "metadata": {
      "needs_background": "light"
     },
     "output_type": "display_data"
    }
   ],
   "source": [
    "#visualizing PCA\n",
    "from sklearn.decomposition import PCA\n",
    "pca = PCA().fit(pca_scale)\n",
    "#Plotting the Cumulative Summation of the Explained Variance\n",
    "plt.figure(figsize= (12,6))\n",
    "plt.plot(np.cumsum(pca.explained_variance_ratio_), ls=\"-\",color='red',marker='o')\n",
    "plt.xlabel('Number of Components',size=14,fontweight='bold')\n",
    "plt.ylabel('Variance (%)',size = 14,fontweight='bold') #for each component\n",
    "plt.title('Loan Dataset Explained Variance',size=14,fontweight='bold')\n",
    "plt.tick_params(axis = 'both', which = 'major', labelsize = 12)\n",
    "plt.show()"
   ]
  },
  {
   "cell_type": "code",
   "execution_count": 172,
   "metadata": {},
   "outputs": [],
   "source": [
    "#selecting pca components with 90% variance\n",
    "pca_1 = PCA(n_components = 15)\n",
    "pca_dataset = pd.DataFrame(pca_1.fit_transform(pca_scale))"
   ]
  },
  {
   "cell_type": "code",
   "execution_count": 238,
   "metadata": {},
   "outputs": [],
   "source": [
    "#merging with requuired columns\n",
    "df_model = pd.merge(pca_dataset,df_add, left_index = True, right_index = True)"
   ]
  },
  {
   "cell_type": "code",
   "execution_count": 239,
   "metadata": {},
   "outputs": [
    {
     "data": {
      "text/plain": [
       "Index([                    0,                     1,                     2,\n",
       "                           3,                     4,                     5,\n",
       "                           6,                     7,                     8,\n",
       "                           9,                    10,                    11,\n",
       "                          12,                    13,                    14,\n",
       "                'emp_length',              'return',             'outcome',\n",
       "                      'term',      'home_ownership', 'verification_status',\n",
       "                   'purpose',            'state_CA',            'state_NY',\n",
       "                  'state_TX',            'state_FL',            'state_IL',\n",
       "                  'state_NJ',            'state_PA',            'state_GA',\n",
       "                  'state_OH',            'state_VA'],\n",
       "      dtype='object')"
      ]
     },
     "execution_count": 239,
     "metadata": {},
     "output_type": "execute_result"
    }
   ],
   "source": [
    "df_model.columns"
   ]
  },
  {
   "cell_type": "markdown",
   "metadata": {},
   "source": [
    "### Sampling"
   ]
  },
  {
   "cell_type": "code",
   "execution_count": 240,
   "metadata": {},
   "outputs": [
    {
     "name": "stderr",
     "output_type": "stream",
     "text": [
      "C:\\Users\\Thatoi\\Downloads\\Software\\Anaconda\\lib\\site-packages\\pandas\\core\\indexing.py:190: SettingWithCopyWarning: \n",
      "A value is trying to be set on a copy of a slice from a DataFrame\n",
      "\n",
      "See the caveats in the documentation: http://pandas.pydata.org/pandas-docs/stable/indexing.html#indexing-view-versus-copy\n",
      "  self._setitem_with_indexer(indexer, value)\n",
      "C:\\Users\\Thatoi\\Downloads\\Software\\Anaconda\\lib\\site-packages\\ipykernel_launcher.py:8: SettingWithCopyWarning: \n",
      "A value is trying to be set on a copy of a slice from a DataFrame\n",
      "\n",
      "See the caveats in the documentation: http://pandas.pydata.org/pandas-docs/stable/indexing.html#indexing-view-versus-copy\n",
      "  \n",
      "C:\\Users\\Thatoi\\Downloads\\Software\\Anaconda\\lib\\site-packages\\ipykernel_launcher.py:8: FutureWarning: specifying 'categories' or 'ordered' in .astype() is deprecated; pass a CategoricalDtype instead\n",
      "  \n"
     ]
    }
   ],
   "source": [
    "# original dataset:\n",
    "value=['home_improvement','major_purchase','medical','car','small_business','moving','vacation','house']\n",
    "cat_cols=['term','emp_length','home_ownership','verification_status','purpose','state_CA', 'state_NY',\n",
    "       'state_TX', 'state_FL', 'state_IL', 'state_NJ', 'state_PA', 'state_GA',\n",
    "       'state_OH', 'state_VA']\n",
    "category =['term','emp_length','home_ownership','verification_status','purpose']\n",
    "\n",
    "df_model_2=clean_df(df_model)"
   ]
  },
  {
   "cell_type": "code",
   "execution_count": 241,
   "metadata": {
    "scrolled": true
   },
   "outputs": [],
   "source": [
    "os.chdir(\"D:/Regression_File\")\n",
    "df_model_2.columns=[str(col) + '_Reg' for col in df_model_2.columns]\n",
    "df_model_2.sample(200000).to_csv('Regression.csv',index=False)"
   ]
  },
  {
   "cell_type": "code",
   "execution_count": 242,
   "metadata": {},
   "outputs": [
    {
     "data": {
      "text/html": [
       "<div>\n",
       "<style scoped>\n",
       "    .dataframe tbody tr th:only-of-type {\n",
       "        vertical-align: middle;\n",
       "    }\n",
       "\n",
       "    .dataframe tbody tr th {\n",
       "        vertical-align: top;\n",
       "    }\n",
       "\n",
       "    .dataframe thead th {\n",
       "        text-align: right;\n",
       "    }\n",
       "</style>\n",
       "<table border=\"1\" class=\"dataframe\">\n",
       "  <thead>\n",
       "    <tr style=\"text-align: right;\">\n",
       "      <th></th>\n",
       "      <th>0_Reg</th>\n",
       "      <th>1_Reg</th>\n",
       "      <th>2_Reg</th>\n",
       "      <th>3_Reg</th>\n",
       "      <th>4_Reg</th>\n",
       "      <th>5_Reg</th>\n",
       "      <th>6_Reg</th>\n",
       "      <th>7_Reg</th>\n",
       "      <th>8_Reg</th>\n",
       "      <th>9_Reg</th>\n",
       "      <th>...</th>\n",
       "      <th>emp_length::10.0_Reg</th>\n",
       "      <th>emp_length::11.0_Reg</th>\n",
       "      <th>home_ownership::OWN_Reg</th>\n",
       "      <th>home_ownership::RENT_Reg</th>\n",
       "      <th>verification_status::Verified_Reg</th>\n",
       "      <th>purpose::debt_consolidation_Reg</th>\n",
       "      <th>purpose::educational_Reg</th>\n",
       "      <th>purpose::other_Reg</th>\n",
       "      <th>purpose::renewable_energy_Reg</th>\n",
       "      <th>purpose::wedding_Reg</th>\n",
       "    </tr>\n",
       "  </thead>\n",
       "  <tbody>\n",
       "    <tr>\n",
       "      <th>0</th>\n",
       "      <td>1.589990</td>\n",
       "      <td>18.820769</td>\n",
       "      <td>5.985410</td>\n",
       "      <td>0.966909</td>\n",
       "      <td>3.254152</td>\n",
       "      <td>-0.326784</td>\n",
       "      <td>-4.224156</td>\n",
       "      <td>-1.784024</td>\n",
       "      <td>1.811055</td>\n",
       "      <td>2.047284</td>\n",
       "      <td>...</td>\n",
       "      <td>0</td>\n",
       "      <td>0</td>\n",
       "      <td>0</td>\n",
       "      <td>1</td>\n",
       "      <td>1</td>\n",
       "      <td>0</td>\n",
       "      <td>0</td>\n",
       "      <td>0</td>\n",
       "      <td>0</td>\n",
       "      <td>0</td>\n",
       "    </tr>\n",
       "    <tr>\n",
       "      <th>1</th>\n",
       "      <td>-6.076901</td>\n",
       "      <td>0.003453</td>\n",
       "      <td>0.726816</td>\n",
       "      <td>-2.523933</td>\n",
       "      <td>0.866890</td>\n",
       "      <td>0.265107</td>\n",
       "      <td>0.965223</td>\n",
       "      <td>-0.060390</td>\n",
       "      <td>-1.177862</td>\n",
       "      <td>1.381149</td>\n",
       "      <td>...</td>\n",
       "      <td>0</td>\n",
       "      <td>0</td>\n",
       "      <td>0</td>\n",
       "      <td>0</td>\n",
       "      <td>1</td>\n",
       "      <td>1</td>\n",
       "      <td>0</td>\n",
       "      <td>0</td>\n",
       "      <td>0</td>\n",
       "      <td>0</td>\n",
       "    </tr>\n",
       "    <tr>\n",
       "      <th>2</th>\n",
       "      <td>-6.053516</td>\n",
       "      <td>-0.077601</td>\n",
       "      <td>0.786155</td>\n",
       "      <td>-0.417814</td>\n",
       "      <td>0.453341</td>\n",
       "      <td>0.358642</td>\n",
       "      <td>0.909464</td>\n",
       "      <td>0.090660</td>\n",
       "      <td>-0.557537</td>\n",
       "      <td>1.080944</td>\n",
       "      <td>...</td>\n",
       "      <td>0</td>\n",
       "      <td>1</td>\n",
       "      <td>0</td>\n",
       "      <td>0</td>\n",
       "      <td>1</td>\n",
       "      <td>1</td>\n",
       "      <td>0</td>\n",
       "      <td>0</td>\n",
       "      <td>0</td>\n",
       "      <td>0</td>\n",
       "    </tr>\n",
       "    <tr>\n",
       "      <th>3</th>\n",
       "      <td>-6.048887</td>\n",
       "      <td>-0.114008</td>\n",
       "      <td>0.872888</td>\n",
       "      <td>0.205694</td>\n",
       "      <td>-0.165587</td>\n",
       "      <td>0.381118</td>\n",
       "      <td>0.834133</td>\n",
       "      <td>0.478326</td>\n",
       "      <td>0.277613</td>\n",
       "      <td>-0.207484</td>\n",
       "      <td>...</td>\n",
       "      <td>0</td>\n",
       "      <td>0</td>\n",
       "      <td>1</td>\n",
       "      <td>0</td>\n",
       "      <td>0</td>\n",
       "      <td>0</td>\n",
       "      <td>0</td>\n",
       "      <td>0</td>\n",
       "      <td>0</td>\n",
       "      <td>0</td>\n",
       "    </tr>\n",
       "    <tr>\n",
       "      <th>4</th>\n",
       "      <td>-6.068512</td>\n",
       "      <td>-0.042962</td>\n",
       "      <td>0.889557</td>\n",
       "      <td>0.881260</td>\n",
       "      <td>-3.469484</td>\n",
       "      <td>0.588407</td>\n",
       "      <td>0.738412</td>\n",
       "      <td>0.471325</td>\n",
       "      <td>0.160544</td>\n",
       "      <td>-0.097664</td>\n",
       "      <td>...</td>\n",
       "      <td>0</td>\n",
       "      <td>1</td>\n",
       "      <td>1</td>\n",
       "      <td>0</td>\n",
       "      <td>0</td>\n",
       "      <td>0</td>\n",
       "      <td>0</td>\n",
       "      <td>1</td>\n",
       "      <td>0</td>\n",
       "      <td>0</td>\n",
       "    </tr>\n",
       "  </tbody>\n",
       "</table>\n",
       "<p>5 rows × 46 columns</p>\n",
       "</div>"
      ],
      "text/plain": [
       "      0_Reg      1_Reg     2_Reg     3_Reg     4_Reg     5_Reg     6_Reg  \\\n",
       "0  1.589990  18.820769  5.985410  0.966909  3.254152 -0.326784 -4.224156   \n",
       "1 -6.076901   0.003453  0.726816 -2.523933  0.866890  0.265107  0.965223   \n",
       "2 -6.053516  -0.077601  0.786155 -0.417814  0.453341  0.358642  0.909464   \n",
       "3 -6.048887  -0.114008  0.872888  0.205694 -0.165587  0.381118  0.834133   \n",
       "4 -6.068512  -0.042962  0.889557  0.881260 -3.469484  0.588407  0.738412   \n",
       "\n",
       "      7_Reg     8_Reg     9_Reg  ...  emp_length::10.0_Reg  \\\n",
       "0 -1.784024  1.811055  2.047284  ...                     0   \n",
       "1 -0.060390 -1.177862  1.381149  ...                     0   \n",
       "2  0.090660 -0.557537  1.080944  ...                     0   \n",
       "3  0.478326  0.277613 -0.207484  ...                     0   \n",
       "4  0.471325  0.160544 -0.097664  ...                     0   \n",
       "\n",
       "   emp_length::11.0_Reg  home_ownership::OWN_Reg  home_ownership::RENT_Reg  \\\n",
       "0                     0                        0                         1   \n",
       "1                     0                        0                         0   \n",
       "2                     1                        0                         0   \n",
       "3                     0                        1                         0   \n",
       "4                     1                        1                         0   \n",
       "\n",
       "   verification_status::Verified_Reg  purpose::debt_consolidation_Reg  \\\n",
       "0                                  1                                0   \n",
       "1                                  1                                1   \n",
       "2                                  1                                1   \n",
       "3                                  0                                0   \n",
       "4                                  0                                0   \n",
       "\n",
       "   purpose::educational_Reg purpose::other_Reg purpose::renewable_energy_Reg  \\\n",
       "0                         0                  0                             0   \n",
       "1                         0                  0                             0   \n",
       "2                         0                  0                             0   \n",
       "3                         0                  0                             0   \n",
       "4                         0                  1                             0   \n",
       "\n",
       "  purpose::wedding_Reg  \n",
       "0                    0  \n",
       "1                    0  \n",
       "2                    0  \n",
       "3                    0  \n",
       "4                    0  \n",
       "\n",
       "[5 rows x 46 columns]"
      ]
     },
     "execution_count": 242,
     "metadata": {},
     "output_type": "execute_result"
    }
   ],
   "source": [
    "df_model_2.head()"
   ]
  },
  {
   "cell_type": "markdown",
   "metadata": {},
   "source": [
    "#### Random Under Sampling"
   ]
  },
  {
   "cell_type": "code",
   "execution_count": 179,
   "metadata": {
    "scrolled": true
   },
   "outputs": [],
   "source": [
    "Y = df_model_2['outcome']\n",
    "X = df_model_2.drop(['outcome','return'],axis=1)\n",
    "Z = df_model_2[['return']]"
   ]
  },
  {
   "cell_type": "code",
   "execution_count": 228,
   "metadata": {},
   "outputs": [
    {
     "name": "stdout",
     "output_type": "stream",
     "text": [
      "Resampled dataset shape Counter({False: 71232, True: 71232})\n"
     ]
    }
   ],
   "source": [
    "from collections import Counter\n",
    "from imblearn.under_sampling import RandomUnderSampler\n",
    "rus = RandomUnderSampler(random_state=42)\n",
    "X_rus, Y_rus = rus.fit_resample(X,Y)\n",
    "print('Resampled dataset shape %s' % Counter(Y_rus))"
   ]
  },
  {
   "cell_type": "code",
   "execution_count": 229,
   "metadata": {},
   "outputs": [
    {
     "data": {
      "text/html": [
       "<div>\n",
       "<style scoped>\n",
       "    .dataframe tbody tr th:only-of-type {\n",
       "        vertical-align: middle;\n",
       "    }\n",
       "\n",
       "    .dataframe tbody tr th {\n",
       "        vertical-align: top;\n",
       "    }\n",
       "\n",
       "    .dataframe thead th {\n",
       "        text-align: right;\n",
       "    }\n",
       "</style>\n",
       "<table border=\"1\" class=\"dataframe\">\n",
       "  <thead>\n",
       "    <tr style=\"text-align: right;\">\n",
       "      <th></th>\n",
       "      <th>0_RUS</th>\n",
       "      <th>1_RUS</th>\n",
       "      <th>2_RUS</th>\n",
       "      <th>3_RUS</th>\n",
       "      <th>4_RUS</th>\n",
       "      <th>5_RUS</th>\n",
       "      <th>6_RUS</th>\n",
       "      <th>7_RUS</th>\n",
       "      <th>8_RUS</th>\n",
       "      <th>9_RUS</th>\n",
       "      <th>...</th>\n",
       "      <th>35_RUS</th>\n",
       "      <th>36_RUS</th>\n",
       "      <th>37_RUS</th>\n",
       "      <th>38_RUS</th>\n",
       "      <th>39_RUS</th>\n",
       "      <th>40_RUS</th>\n",
       "      <th>41_RUS</th>\n",
       "      <th>42_RUS</th>\n",
       "      <th>43_RUS</th>\n",
       "      <th>outcome</th>\n",
       "    </tr>\n",
       "  </thead>\n",
       "  <tbody>\n",
       "    <tr>\n",
       "      <th>0</th>\n",
       "      <td>11.2523</td>\n",
       "      <td>-3.57193</td>\n",
       "      <td>13.6633</td>\n",
       "      <td>1.43887</td>\n",
       "      <td>-4.63446</td>\n",
       "      <td>-2.91904</td>\n",
       "      <td>-0.468369</td>\n",
       "      <td>1.11703</td>\n",
       "      <td>-0.970823</td>\n",
       "      <td>0.828678</td>\n",
       "      <td>...</td>\n",
       "      <td>0</td>\n",
       "      <td>0</td>\n",
       "      <td>1</td>\n",
       "      <td>0</td>\n",
       "      <td>0</td>\n",
       "      <td>0</td>\n",
       "      <td>0</td>\n",
       "      <td>0</td>\n",
       "      <td>0</td>\n",
       "      <td>False</td>\n",
       "    </tr>\n",
       "    <tr>\n",
       "      <th>1</th>\n",
       "      <td>3.64517</td>\n",
       "      <td>2.09013</td>\n",
       "      <td>-1.42486</td>\n",
       "      <td>1.87058</td>\n",
       "      <td>-2.49019</td>\n",
       "      <td>0.237967</td>\n",
       "      <td>-0.394934</td>\n",
       "      <td>0.439032</td>\n",
       "      <td>-0.825864</td>\n",
       "      <td>-0.591105</td>\n",
       "      <td>...</td>\n",
       "      <td>0</td>\n",
       "      <td>1</td>\n",
       "      <td>0</td>\n",
       "      <td>0</td>\n",
       "      <td>1</td>\n",
       "      <td>0</td>\n",
       "      <td>0</td>\n",
       "      <td>0</td>\n",
       "      <td>0</td>\n",
       "      <td>False</td>\n",
       "    </tr>\n",
       "    <tr>\n",
       "      <th>2</th>\n",
       "      <td>7.82939</td>\n",
       "      <td>-1.86937</td>\n",
       "      <td>-0.290045</td>\n",
       "      <td>-0.702522</td>\n",
       "      <td>1.68774</td>\n",
       "      <td>-0.595411</td>\n",
       "      <td>-1.22283</td>\n",
       "      <td>1.57767</td>\n",
       "      <td>-1.73171</td>\n",
       "      <td>-1.17048</td>\n",
       "      <td>...</td>\n",
       "      <td>1</td>\n",
       "      <td>0</td>\n",
       "      <td>1</td>\n",
       "      <td>1</td>\n",
       "      <td>1</td>\n",
       "      <td>0</td>\n",
       "      <td>0</td>\n",
       "      <td>0</td>\n",
       "      <td>0</td>\n",
       "      <td>False</td>\n",
       "    </tr>\n",
       "    <tr>\n",
       "      <th>3</th>\n",
       "      <td>6.64119</td>\n",
       "      <td>-5.5287</td>\n",
       "      <td>-0.762155</td>\n",
       "      <td>0.946388</td>\n",
       "      <td>-1.30675</td>\n",
       "      <td>0.0432257</td>\n",
       "      <td>-0.216195</td>\n",
       "      <td>-1.31351</td>\n",
       "      <td>0.0884782</td>\n",
       "      <td>-0.306015</td>\n",
       "      <td>...</td>\n",
       "      <td>0</td>\n",
       "      <td>0</td>\n",
       "      <td>1</td>\n",
       "      <td>0</td>\n",
       "      <td>0</td>\n",
       "      <td>0</td>\n",
       "      <td>0</td>\n",
       "      <td>0</td>\n",
       "      <td>0</td>\n",
       "      <td>False</td>\n",
       "    </tr>\n",
       "    <tr>\n",
       "      <th>4</th>\n",
       "      <td>-1.58657</td>\n",
       "      <td>-5.22177</td>\n",
       "      <td>1.23166</td>\n",
       "      <td>-0.805377</td>\n",
       "      <td>1.2846</td>\n",
       "      <td>1.18814</td>\n",
       "      <td>0.629064</td>\n",
       "      <td>-0.472566</td>\n",
       "      <td>3.74762</td>\n",
       "      <td>-0.498738</td>\n",
       "      <td>...</td>\n",
       "      <td>0</td>\n",
       "      <td>1</td>\n",
       "      <td>0</td>\n",
       "      <td>1</td>\n",
       "      <td>1</td>\n",
       "      <td>0</td>\n",
       "      <td>0</td>\n",
       "      <td>0</td>\n",
       "      <td>0</td>\n",
       "      <td>False</td>\n",
       "    </tr>\n",
       "  </tbody>\n",
       "</table>\n",
       "<p>5 rows × 45 columns</p>\n",
       "</div>"
      ],
      "text/plain": [
       "     0_RUS    1_RUS     2_RUS     3_RUS    4_RUS      5_RUS     6_RUS  \\\n",
       "0  11.2523 -3.57193   13.6633   1.43887 -4.63446   -2.91904 -0.468369   \n",
       "1  3.64517  2.09013  -1.42486   1.87058 -2.49019   0.237967 -0.394934   \n",
       "2  7.82939 -1.86937 -0.290045 -0.702522  1.68774  -0.595411  -1.22283   \n",
       "3  6.64119  -5.5287 -0.762155  0.946388 -1.30675  0.0432257 -0.216195   \n",
       "4 -1.58657 -5.22177   1.23166 -0.805377   1.2846    1.18814  0.629064   \n",
       "\n",
       "      7_RUS      8_RUS     9_RUS  ... 35_RUS 36_RUS 37_RUS 38_RUS 39_RUS  \\\n",
       "0   1.11703  -0.970823  0.828678  ...      0      0      1      0      0   \n",
       "1  0.439032  -0.825864 -0.591105  ...      0      1      0      0      1   \n",
       "2   1.57767   -1.73171  -1.17048  ...      1      0      1      1      1   \n",
       "3  -1.31351  0.0884782 -0.306015  ...      0      0      1      0      0   \n",
       "4 -0.472566    3.74762 -0.498738  ...      0      1      0      1      1   \n",
       "\n",
       "  40_RUS 41_RUS 42_RUS 43_RUS outcome  \n",
       "0      0      0      0      0   False  \n",
       "1      0      0      0      0   False  \n",
       "2      0      0      0      0   False  \n",
       "3      0      0      0      0   False  \n",
       "4      0      0      0      0   False  \n",
       "\n",
       "[5 rows x 45 columns]"
      ]
     },
     "execution_count": 229,
     "metadata": {},
     "output_type": "execute_result"
    }
   ],
   "source": [
    "#creating RUS dataframe\n",
    "X_rus = pd.DataFrame(X_rus)\n",
    "X_rus.columns=[str(col) + '_RUS' for col in X_rus.columns]\n",
    "Y_rus = pd.DataFrame(Y_rus).rename(columns={0:'outcome'})\n",
    "RUS_sample_1 = pd.merge(X_rus,Y_rus, left_index= True, right_index=True)\n",
    "RUS_sample_1.head()"
   ]
  },
  {
   "cell_type": "markdown",
   "metadata": {},
   "source": [
    "#### Random Over Sampling"
   ]
  },
  {
   "cell_type": "code",
   "execution_count": 230,
   "metadata": {},
   "outputs": [
    {
     "name": "stdout",
     "output_type": "stream",
     "text": [
      "Resampled dataset shape Counter({True: 286671, False: 286671})\n"
     ]
    }
   ],
   "source": [
    "from imblearn.over_sampling import RandomOverSampler\n",
    "ros = RandomOverSampler(random_state=42)\n",
    "X_ros, Y_ros = ros.fit_resample(X,Y)\n",
    "print('Resampled dataset shape %s' % Counter(Y_ros))"
   ]
  },
  {
   "cell_type": "code",
   "execution_count": 231,
   "metadata": {},
   "outputs": [
    {
     "data": {
      "text/html": [
       "<div>\n",
       "<style scoped>\n",
       "    .dataframe tbody tr th:only-of-type {\n",
       "        vertical-align: middle;\n",
       "    }\n",
       "\n",
       "    .dataframe tbody tr th {\n",
       "        vertical-align: top;\n",
       "    }\n",
       "\n",
       "    .dataframe thead th {\n",
       "        text-align: right;\n",
       "    }\n",
       "</style>\n",
       "<table border=\"1\" class=\"dataframe\">\n",
       "  <thead>\n",
       "    <tr style=\"text-align: right;\">\n",
       "      <th></th>\n",
       "      <th>0_ROS</th>\n",
       "      <th>1_ROS</th>\n",
       "      <th>2_ROS</th>\n",
       "      <th>3_ROS</th>\n",
       "      <th>4_ROS</th>\n",
       "      <th>5_ROS</th>\n",
       "      <th>6_ROS</th>\n",
       "      <th>7_ROS</th>\n",
       "      <th>8_ROS</th>\n",
       "      <th>9_ROS</th>\n",
       "      <th>...</th>\n",
       "      <th>35_ROS</th>\n",
       "      <th>36_ROS</th>\n",
       "      <th>37_ROS</th>\n",
       "      <th>38_ROS</th>\n",
       "      <th>39_ROS</th>\n",
       "      <th>40_ROS</th>\n",
       "      <th>41_ROS</th>\n",
       "      <th>42_ROS</th>\n",
       "      <th>43_ROS</th>\n",
       "      <th>outcome</th>\n",
       "    </tr>\n",
       "  </thead>\n",
       "  <tbody>\n",
       "    <tr>\n",
       "      <th>0</th>\n",
       "      <td>1.58999</td>\n",
       "      <td>18.8208</td>\n",
       "      <td>5.98541</td>\n",
       "      <td>0.966909</td>\n",
       "      <td>3.25415</td>\n",
       "      <td>-0.326784</td>\n",
       "      <td>-4.22416</td>\n",
       "      <td>-1.78402</td>\n",
       "      <td>1.81106</td>\n",
       "      <td>2.04728</td>\n",
       "      <td>...</td>\n",
       "      <td>0</td>\n",
       "      <td>0</td>\n",
       "      <td>1</td>\n",
       "      <td>1</td>\n",
       "      <td>0</td>\n",
       "      <td>0</td>\n",
       "      <td>0</td>\n",
       "      <td>0</td>\n",
       "      <td>0</td>\n",
       "      <td>True</td>\n",
       "    </tr>\n",
       "    <tr>\n",
       "      <th>1</th>\n",
       "      <td>-6.0769</td>\n",
       "      <td>0.00345332</td>\n",
       "      <td>0.726816</td>\n",
       "      <td>-2.52393</td>\n",
       "      <td>0.86689</td>\n",
       "      <td>0.265107</td>\n",
       "      <td>0.965223</td>\n",
       "      <td>-0.0603904</td>\n",
       "      <td>-1.17786</td>\n",
       "      <td>1.38115</td>\n",
       "      <td>...</td>\n",
       "      <td>0</td>\n",
       "      <td>0</td>\n",
       "      <td>0</td>\n",
       "      <td>1</td>\n",
       "      <td>1</td>\n",
       "      <td>0</td>\n",
       "      <td>0</td>\n",
       "      <td>0</td>\n",
       "      <td>0</td>\n",
       "      <td>False</td>\n",
       "    </tr>\n",
       "    <tr>\n",
       "      <th>2</th>\n",
       "      <td>-6.05352</td>\n",
       "      <td>-0.077601</td>\n",
       "      <td>0.786155</td>\n",
       "      <td>-0.417814</td>\n",
       "      <td>0.453341</td>\n",
       "      <td>0.358642</td>\n",
       "      <td>0.909464</td>\n",
       "      <td>0.0906596</td>\n",
       "      <td>-0.557537</td>\n",
       "      <td>1.08094</td>\n",
       "      <td>...</td>\n",
       "      <td>1</td>\n",
       "      <td>0</td>\n",
       "      <td>0</td>\n",
       "      <td>1</td>\n",
       "      <td>1</td>\n",
       "      <td>0</td>\n",
       "      <td>0</td>\n",
       "      <td>0</td>\n",
       "      <td>0</td>\n",
       "      <td>True</td>\n",
       "    </tr>\n",
       "    <tr>\n",
       "      <th>3</th>\n",
       "      <td>-6.04889</td>\n",
       "      <td>-0.114008</td>\n",
       "      <td>0.872888</td>\n",
       "      <td>0.205694</td>\n",
       "      <td>-0.165587</td>\n",
       "      <td>0.381118</td>\n",
       "      <td>0.834133</td>\n",
       "      <td>0.478326</td>\n",
       "      <td>0.277613</td>\n",
       "      <td>-0.207484</td>\n",
       "      <td>...</td>\n",
       "      <td>0</td>\n",
       "      <td>1</td>\n",
       "      <td>0</td>\n",
       "      <td>0</td>\n",
       "      <td>0</td>\n",
       "      <td>0</td>\n",
       "      <td>0</td>\n",
       "      <td>0</td>\n",
       "      <td>0</td>\n",
       "      <td>False</td>\n",
       "    </tr>\n",
       "    <tr>\n",
       "      <th>4</th>\n",
       "      <td>-6.06851</td>\n",
       "      <td>-0.0429619</td>\n",
       "      <td>0.889557</td>\n",
       "      <td>0.88126</td>\n",
       "      <td>-3.46948</td>\n",
       "      <td>0.588407</td>\n",
       "      <td>0.738412</td>\n",
       "      <td>0.471325</td>\n",
       "      <td>0.160544</td>\n",
       "      <td>-0.0976643</td>\n",
       "      <td>...</td>\n",
       "      <td>1</td>\n",
       "      <td>1</td>\n",
       "      <td>0</td>\n",
       "      <td>0</td>\n",
       "      <td>0</td>\n",
       "      <td>0</td>\n",
       "      <td>1</td>\n",
       "      <td>0</td>\n",
       "      <td>0</td>\n",
       "      <td>False</td>\n",
       "    </tr>\n",
       "  </tbody>\n",
       "</table>\n",
       "<p>5 rows × 45 columns</p>\n",
       "</div>"
      ],
      "text/plain": [
       "     0_ROS       1_ROS     2_ROS     3_ROS     4_ROS     5_ROS     6_ROS  \\\n",
       "0  1.58999     18.8208   5.98541  0.966909   3.25415 -0.326784  -4.22416   \n",
       "1  -6.0769  0.00345332  0.726816  -2.52393   0.86689  0.265107  0.965223   \n",
       "2 -6.05352   -0.077601  0.786155 -0.417814  0.453341  0.358642  0.909464   \n",
       "3 -6.04889   -0.114008  0.872888  0.205694 -0.165587  0.381118  0.834133   \n",
       "4 -6.06851  -0.0429619  0.889557   0.88126  -3.46948  0.588407  0.738412   \n",
       "\n",
       "       7_ROS     8_ROS      9_ROS  ... 35_ROS 36_ROS 37_ROS 38_ROS 39_ROS  \\\n",
       "0   -1.78402   1.81106    2.04728  ...      0      0      1      1      0   \n",
       "1 -0.0603904  -1.17786    1.38115  ...      0      0      0      1      1   \n",
       "2  0.0906596 -0.557537    1.08094  ...      1      0      0      1      1   \n",
       "3   0.478326  0.277613  -0.207484  ...      0      1      0      0      0   \n",
       "4   0.471325  0.160544 -0.0976643  ...      1      1      0      0      0   \n",
       "\n",
       "  40_ROS 41_ROS 42_ROS 43_ROS outcome  \n",
       "0      0      0      0      0    True  \n",
       "1      0      0      0      0   False  \n",
       "2      0      0      0      0    True  \n",
       "3      0      0      0      0   False  \n",
       "4      0      1      0      0   False  \n",
       "\n",
       "[5 rows x 45 columns]"
      ]
     },
     "execution_count": 231,
     "metadata": {},
     "output_type": "execute_result"
    }
   ],
   "source": [
    "#creating ROS dataframe\n",
    "X_ros = pd.DataFrame(X_ros)\n",
    "X_ros.columns=[str(col) + '_ROS' for col in X_ros.columns]\n",
    "Y_ros = pd.DataFrame(Y_ros).rename(columns={0:'outcome'})\n",
    "ROS_sample_1 = pd.merge(X_ros,Y_ros, left_index= True, right_index=True)\n",
    "ROS_sample_1.head()"
   ]
  },
  {
   "cell_type": "markdown",
   "metadata": {},
   "source": [
    "#### SMOTE"
   ]
  },
  {
   "cell_type": "code",
   "execution_count": 204,
   "metadata": {},
   "outputs": [
    {
     "name": "stdout",
     "output_type": "stream",
     "text": [
      "Resampled dataset shape Counter({True: 286671, False: 286671})\n"
     ]
    }
   ],
   "source": [
    "from imblearn.over_sampling import SMOTENC\n",
    "smote = SMOTENC(categorical_features=[15,16,17,18,19,20,21,22,23,24,25,26,27,28,29,30\n",
    "                                      ,31,32,33,34,35,36,37,38,39,40,41,42,43])\n",
    "X_sm, Y_sm = smote.fit_sample(X, Y)\n",
    "print('Resampled dataset shape %s' % Counter(Y_sm))"
   ]
  },
  {
   "cell_type": "code",
   "execution_count": 214,
   "metadata": {},
   "outputs": [
    {
     "data": {
      "text/html": [
       "<div>\n",
       "<style scoped>\n",
       "    .dataframe tbody tr th:only-of-type {\n",
       "        vertical-align: middle;\n",
       "    }\n",
       "\n",
       "    .dataframe tbody tr th {\n",
       "        vertical-align: top;\n",
       "    }\n",
       "\n",
       "    .dataframe thead th {\n",
       "        text-align: right;\n",
       "    }\n",
       "</style>\n",
       "<table border=\"1\" class=\"dataframe\">\n",
       "  <thead>\n",
       "    <tr style=\"text-align: right;\">\n",
       "      <th></th>\n",
       "      <th>0_SMOTE</th>\n",
       "      <th>1_SMOTE</th>\n",
       "      <th>2_SMOTE</th>\n",
       "      <th>3_SMOTE</th>\n",
       "      <th>4_SMOTE</th>\n",
       "      <th>5_SMOTE</th>\n",
       "      <th>6_SMOTE</th>\n",
       "      <th>7_SMOTE</th>\n",
       "      <th>8_SMOTE</th>\n",
       "      <th>9_SMOTE</th>\n",
       "      <th>...</th>\n",
       "      <th>35_SMOTE</th>\n",
       "      <th>36_SMOTE</th>\n",
       "      <th>37_SMOTE</th>\n",
       "      <th>38_SMOTE</th>\n",
       "      <th>39_SMOTE</th>\n",
       "      <th>40_SMOTE</th>\n",
       "      <th>41_SMOTE</th>\n",
       "      <th>42_SMOTE</th>\n",
       "      <th>43_SMOTE</th>\n",
       "      <th>outcome</th>\n",
       "    </tr>\n",
       "  </thead>\n",
       "  <tbody>\n",
       "    <tr>\n",
       "      <th>573337</th>\n",
       "      <td>0.167283</td>\n",
       "      <td>5.37258</td>\n",
       "      <td>-0.149203</td>\n",
       "      <td>-1.70077</td>\n",
       "      <td>0.593971</td>\n",
       "      <td>0.741772</td>\n",
       "      <td>-0.479808</td>\n",
       "      <td>2.94717</td>\n",
       "      <td>0.550687</td>\n",
       "      <td>0.357476</td>\n",
       "      <td>...</td>\n",
       "      <td>0</td>\n",
       "      <td>0</td>\n",
       "      <td>0</td>\n",
       "      <td>1</td>\n",
       "      <td>1</td>\n",
       "      <td>0</td>\n",
       "      <td>0</td>\n",
       "      <td>0</td>\n",
       "      <td>0</td>\n",
       "      <td>True</td>\n",
       "    </tr>\n",
       "    <tr>\n",
       "      <th>573338</th>\n",
       "      <td>7.75737</td>\n",
       "      <td>-0.360237</td>\n",
       "      <td>-3.65418</td>\n",
       "      <td>1.89488</td>\n",
       "      <td>1.22543</td>\n",
       "      <td>-0.321428</td>\n",
       "      <td>0.710611</td>\n",
       "      <td>-2.28726</td>\n",
       "      <td>-0.835185</td>\n",
       "      <td>0.988052</td>\n",
       "      <td>...</td>\n",
       "      <td>0</td>\n",
       "      <td>0</td>\n",
       "      <td>0</td>\n",
       "      <td>1</td>\n",
       "      <td>1</td>\n",
       "      <td>0</td>\n",
       "      <td>0</td>\n",
       "      <td>0</td>\n",
       "      <td>0</td>\n",
       "      <td>True</td>\n",
       "    </tr>\n",
       "    <tr>\n",
       "      <th>573339</th>\n",
       "      <td>5.29178</td>\n",
       "      <td>-4.85145</td>\n",
       "      <td>-0.694402</td>\n",
       "      <td>0.48402</td>\n",
       "      <td>-0.179639</td>\n",
       "      <td>-1.36858</td>\n",
       "      <td>-0.522487</td>\n",
       "      <td>-0.487077</td>\n",
       "      <td>1.01074</td>\n",
       "      <td>0.724732</td>\n",
       "      <td>...</td>\n",
       "      <td>0</td>\n",
       "      <td>0</td>\n",
       "      <td>1</td>\n",
       "      <td>1</td>\n",
       "      <td>1</td>\n",
       "      <td>0</td>\n",
       "      <td>0</td>\n",
       "      <td>0</td>\n",
       "      <td>0</td>\n",
       "      <td>True</td>\n",
       "    </tr>\n",
       "    <tr>\n",
       "      <th>573340</th>\n",
       "      <td>-5.891</td>\n",
       "      <td>2.00384</td>\n",
       "      <td>-0.191271</td>\n",
       "      <td>-1.38537</td>\n",
       "      <td>0.987008</td>\n",
       "      <td>-0.521374</td>\n",
       "      <td>0.560036</td>\n",
       "      <td>1.04931</td>\n",
       "      <td>0.232487</td>\n",
       "      <td>-0.347247</td>\n",
       "      <td>...</td>\n",
       "      <td>0</td>\n",
       "      <td>0</td>\n",
       "      <td>1</td>\n",
       "      <td>1</td>\n",
       "      <td>1</td>\n",
       "      <td>0</td>\n",
       "      <td>0</td>\n",
       "      <td>0</td>\n",
       "      <td>0</td>\n",
       "      <td>True</td>\n",
       "    </tr>\n",
       "    <tr>\n",
       "      <th>573341</th>\n",
       "      <td>-7.34592</td>\n",
       "      <td>2.22611</td>\n",
       "      <td>0.57366</td>\n",
       "      <td>1.0652</td>\n",
       "      <td>0.68193</td>\n",
       "      <td>0.256684</td>\n",
       "      <td>0.365331</td>\n",
       "      <td>0.0949418</td>\n",
       "      <td>-0.352581</td>\n",
       "      <td>0.662071</td>\n",
       "      <td>...</td>\n",
       "      <td>1</td>\n",
       "      <td>0</td>\n",
       "      <td>0</td>\n",
       "      <td>1</td>\n",
       "      <td>1</td>\n",
       "      <td>0</td>\n",
       "      <td>0</td>\n",
       "      <td>0</td>\n",
       "      <td>0</td>\n",
       "      <td>True</td>\n",
       "    </tr>\n",
       "  </tbody>\n",
       "</table>\n",
       "<p>5 rows × 45 columns</p>\n",
       "</div>"
      ],
      "text/plain": [
       "         0_SMOTE   1_SMOTE   2_SMOTE  3_SMOTE   4_SMOTE   5_SMOTE   6_SMOTE  \\\n",
       "573337  0.167283   5.37258 -0.149203 -1.70077  0.593971  0.741772 -0.479808   \n",
       "573338   7.75737 -0.360237  -3.65418  1.89488   1.22543 -0.321428  0.710611   \n",
       "573339   5.29178  -4.85145 -0.694402  0.48402 -0.179639  -1.36858 -0.522487   \n",
       "573340    -5.891   2.00384 -0.191271 -1.38537  0.987008 -0.521374  0.560036   \n",
       "573341  -7.34592   2.22611   0.57366   1.0652   0.68193  0.256684  0.365331   \n",
       "\n",
       "          7_SMOTE   8_SMOTE   9_SMOTE  ... 35_SMOTE 36_SMOTE 37_SMOTE  \\\n",
       "573337    2.94717  0.550687  0.357476  ...        0        0        0   \n",
       "573338   -2.28726 -0.835185  0.988052  ...        0        0        0   \n",
       "573339  -0.487077   1.01074  0.724732  ...        0        0        1   \n",
       "573340    1.04931  0.232487 -0.347247  ...        0        0        1   \n",
       "573341  0.0949418 -0.352581  0.662071  ...        1        0        0   \n",
       "\n",
       "       38_SMOTE 39_SMOTE 40_SMOTE 41_SMOTE 42_SMOTE 43_SMOTE outcome  \n",
       "573337        1        1        0        0        0        0    True  \n",
       "573338        1        1        0        0        0        0    True  \n",
       "573339        1        1        0        0        0        0    True  \n",
       "573340        1        1        0        0        0        0    True  \n",
       "573341        1        1        0        0        0        0    True  \n",
       "\n",
       "[5 rows x 45 columns]"
      ]
     },
     "execution_count": 214,
     "metadata": {},
     "output_type": "execute_result"
    }
   ],
   "source": [
    "#creating RUS dataframe\n",
    "X_sm = pd.DataFrame(X_sm)\n",
    "X_sm.columns=[str(col) + '_SMOTE' for col in X_sm.columns]\n",
    "Y_sm = pd.DataFrame(Y_sm).rename(columns={0:'outcome'})\n",
    "SMOTE_sample_1 = pd.merge(X_sm,Y_sm, left_index= True, right_index=True)\n",
    "SMOTE_sample_1.tail()"
   ]
  },
  {
   "cell_type": "code",
   "execution_count": 221,
   "metadata": {},
   "outputs": [
    {
     "name": "stdout",
     "output_type": "stream",
     "text": [
      "(573342, 45)\n",
      "(142464, 45)\n",
      "(573342, 45)\n"
     ]
    }
   ],
   "source": [
    "print(SMOTE_sample_1.shape)\n",
    "print(RUS_sample_1.shape)\n",
    "print(ROS_sample_1.shape)"
   ]
  },
  {
   "cell_type": "markdown",
   "metadata": {},
   "source": [
    "#### Writing Sample dataset"
   ]
  },
  {
   "cell_type": "code",
   "execution_count": 232,
   "metadata": {},
   "outputs": [],
   "source": [
    "os.chdir(r\"D:\\Sampling_Datasets\")\n",
    "RUS_sample_1.to_csv('RUS_Sample.csv',index=False)\n",
    "ROS_sample_1.to_csv('ROS_Sample.csv',index=False)\n",
    "SMOTE_sample_1.to_csv('SMOTE_Sample.csv',index=False)"
   ]
  }
 ],
 "metadata": {
  "kernelspec": {
   "display_name": "Python 3",
   "language": "python",
   "name": "python3"
  },
  "language_info": {
   "codemirror_mode": {
    "name": "ipython",
    "version": 3
   },
   "file_extension": ".py",
   "mimetype": "text/x-python",
   "name": "python",
   "nbconvert_exporter": "python",
   "pygments_lexer": "ipython3",
   "version": "3.6.8"
  }
 },
 "nbformat": 4,
 "nbformat_minor": 2
}
